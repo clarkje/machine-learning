{
 "cells": [
  {
   "cell_type": "markdown",
   "metadata": {},
   "source": [
    "##  Data Preprocessing\n",
    "\n",
    "### Imports"
   ]
  },
  {
   "cell_type": "code",
   "execution_count": 1,
   "metadata": {},
   "outputs": [],
   "source": [
    "import pandas as pd\n",
    "import numpy as np\n",
    "import matplotlib.pyplot as plt\n",
    "import seaborn as sns\n",
    "\n",
    "from IPython.display import display # Allows the use of display() for DataFrames\n",
    "from sklearn.preprocessing import MinMaxScaler\n",
    "from sklearn.preprocessing import LabelBinarizer\n",
    "\n",
    "# Show all of the data in a dataframe\n",
    "pd.set_option('display.max_columns', None)"
   ]
  },
  {
   "cell_type": "code",
   "execution_count": 10,
   "metadata": {},
   "outputs": [
    {
     "name": "stdout",
     "output_type": "stream",
     "text": [
      "Loaded Training Set: 307511 rows\n",
      "Loaded Training Set: 307511 rows\n"
     ]
    }
   ],
   "source": [
    "# Training Set\n",
    "application_train = pd.read_csv('data/application_train.csv')\n",
    "print(\"Loaded Training Set: {0} rows\".format(application_train.shape[0]))\n",
    "\n",
    "application_test = pd.read_csv('data/application_test.csv')\n",
    "print(\"Loaded Training Set: {0} rows\".format(application_train.shape[0]))\n",
    "\n",
    "columns = pd.read_csv('data/HomeCredit_columns_description.csv')"
   ]
  },
  {
   "cell_type": "code",
   "execution_count": 11,
   "metadata": {},
   "outputs": [],
   "source": [
    "# An array of dataFrames (to make it easier to apply transformations to test and train sets simultaneously)\n",
    "dataFrames = [application_test, application_train]\n",
    "\n",
    "string_to_bool_features = []  # A list of Y/N string features that need to be converted to boolean"
   ]
  },
  {
   "cell_type": "code",
   "execution_count": 7,
   "metadata": {},
   "outputs": [],
   "source": [
    "'''\n",
    "Scales a list of numeric features to a range of [0 .. 1] without changing the distribution of the data.  \n",
    "Accepts a List of column names.  Returns a new dataFrame.\n",
    "''' \n",
    "def scale_features(dataFrame, featureList): \n",
    "    dataFrame_transform = pd.DataFrame(data = dataFrame)\n",
    "    dataFrame_transform[featureList] = scaler.fit_transform(dataFrame_transform[featureList])\n",
    "    return dataFrame_transform"
   ]
  },
  {
   "cell_type": "code",
   "execution_count": 8,
   "metadata": {},
   "outputs": [],
   "source": [
    "''' \n",
    "Applies an in-place transformation that converts a Y/N field to binary 1/0\n",
    "'''\n",
    "def make_bool(dataFrame, featureName): \n",
    "    \n",
    "    lb = LabelBinarizer()\n",
    "    bool_name = \"BOOL_{0}\".format(featureName)    \n",
    "    dataFrame[bool_name] = lb.fit_transform(dataFrame[featureName])\n",
    "    result = dataFrame.drop(featureName, axis=1) "
   ]
  },
  {
   "cell_type": "code",
   "execution_count": 13,
   "metadata": {},
   "outputs": [],
   "source": [
    "'''\n",
    "Applies an in-place log transformation to numeric features\n",
    "'''\n",
    "def log_transform(dataFrame, featureName):     \n",
    "    \n",
    "    transformed = dataFrame[featureName].apply(lambda x: np.log(x + 1))\n",
    "    \n",
    "    transformed_name = \"LOG_{0}\".format(featureName)\n",
    "\n",
    "    dataFrame[transformed_name] = transformed\n",
    "    result = dataFrame.drop(featureName, axis=1)  "
   ]
  },
  {
   "cell_type": "markdown",
   "metadata": {},
   "source": [
    "#### Preprocessing"
   ]
  },
  {
   "cell_type": "markdown",
   "metadata": {},
   "source": [
    "#### Individual Problematic Features"
   ]
  },
  {
   "cell_type": "code",
   "execution_count": null,
   "metadata": {},
   "outputs": [],
   "source": [
    "# DAYS_EMPLOYED\n",
    "\n",
    "# A bunch of records indicate that the person has worked for ~100 years.\n",
    "# I'm just going to zero them out, because they're invalid\n",
    "# NOTE: NaN might ultimately be a better choice\n",
    "\n",
    "for frame in dataFrames: \n",
    "    frame['DAYS_EMPLOYED_FIXED'] = frame['DAYS_EMPLOYED'].replace({365243: 0})\n",
    "    result = frame.drop\n",
    "    "
   ]
  },
  {
   "cell_type": "code",
   "execution_count": 12,
   "metadata": {},
   "outputs": [],
   "source": [
    "\n",
    "# Convert any Y/N string fields to boolean\n",
    "for frame in dataFrames: \n",
    "    for feature in string_to_bool_features: \n",
    "        make_bool(frame, feature)"
   ]
  }
 ],
 "metadata": {
  "kernelspec": {
   "display_name": "Python 3",
   "language": "python",
   "name": "python3"
  },
  "language_info": {
   "codemirror_mode": {
    "name": "ipython",
    "version": 3
   },
   "file_extension": ".py",
   "mimetype": "text/x-python",
   "name": "python",
   "nbconvert_exporter": "python",
   "pygments_lexer": "ipython3",
   "version": "3.6.5"
  }
 },
 "nbformat": 4,
 "nbformat_minor": 2
}
