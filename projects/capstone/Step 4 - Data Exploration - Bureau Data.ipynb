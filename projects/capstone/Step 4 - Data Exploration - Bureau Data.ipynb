{
 "cells": [
  {
   "cell_type": "markdown",
   "metadata": {},
   "source": [
    "### Data Exploration - Bureau Data"
   ]
  },
  {
   "cell_type": "markdown",
   "metadata": {},
   "source": [
    "### Bureau Data\n",
    "\n",
    "Step 4: Because our performance numbers using just the application_train data were pretty dismal, we'll look at credit bureau data to form a more complete picture of our loan applicants.  Hopefully adding some additional data to our profile will help improve our performance.\n",
    "\n",
    "### Imports"
   ]
  },
  {
   "cell_type": "code",
   "execution_count": 1,
   "metadata": {},
   "outputs": [],
   "source": [
    "import pandas as pd\n",
    "import numpy as np\n",
    "import matplotlib.pyplot as plt\n",
    "import seaborn as sns\n",
    "\n",
    "from IPython.display import display # Allows the use of display() for DataFrames\n",
    "from sklearn.preprocessing import MinMaxScaler\n",
    "from sklearn.preprocessing import LabelBinarizer\n",
    "\n",
    "# Show all of the data in a dataframe\n",
    "pd.set_option('display.max_columns', None)"
   ]
  },
  {
   "cell_type": "markdown",
   "metadata": {},
   "source": [
    "### Load Data"
   ]
  },
  {
   "cell_type": "code",
   "execution_count": 2,
   "metadata": {},
   "outputs": [
    {
     "name": "stdout",
     "output_type": "stream",
     "text": [
      "Loaded Training Set: 307511 rows 41 columns\n",
      "Loaded Bureau Set: 1716428 rows\n",
      "Loaded Bureau Balance Set: 27299925 rows\n"
     ]
    }
   ],
   "source": [
    "# Training Set\n",
    "application_train = pd.read_csv('data/tmp/application_train_reduced.csv', index_col=0)\n",
    "\n",
    "print(\"Loaded Training Set: {0} rows {1} columns\".format(application_train.shape[0], application_train.shape[1]))\n",
    "\n",
    "bureau_data = pd.read_csv('data/bureau.csv')\n",
    "print(\"Loaded Bureau Set: {0} rows\".format(bureau_data.shape[0]))\n",
    "\n",
    "bureau_balance_data = pd.read_csv('data/bureau_balance.csv')\n",
    "print(\"Loaded Bureau Balance Set: {0} rows\".format(bureau_balance_data.shape[0]))"
   ]
  },
  {
   "cell_type": "code",
   "execution_count": 3,
   "metadata": {},
   "outputs": [],
   "source": [
    "non_numeric_features = []    # non-numeric features for one-hot encoding\n",
    "numeric_features = []        # numeric features (for feature scaling)\n",
    "string_to_bool_features = [] # boolean features (that need conversion from string to binary)\n",
    "log_transform_features = []  # skewed features that need log transformation"
   ]
  },
  {
   "cell_type": "markdown",
   "metadata": {},
   "source": [
    "### Inspect Data"
   ]
  },
  {
   "cell_type": "markdown",
   "metadata": {},
   "source": [
    "#### Application Data"
   ]
  },
  {
   "cell_type": "code",
   "execution_count": 4,
   "metadata": {
    "scrolled": false
   },
   "outputs": [
    {
     "data": {
      "text/html": [
       "<div>\n",
       "<style scoped>\n",
       "    .dataframe tbody tr th:only-of-type {\n",
       "        vertical-align: middle;\n",
       "    }\n",
       "\n",
       "    .dataframe tbody tr th {\n",
       "        vertical-align: top;\n",
       "    }\n",
       "\n",
       "    .dataframe thead th {\n",
       "        text-align: right;\n",
       "    }\n",
       "</style>\n",
       "<table border=\"1\" class=\"dataframe\">\n",
       "  <thead>\n",
       "    <tr style=\"text-align: right;\">\n",
       "      <th></th>\n",
       "      <th>EXT_SOURCE_3</th>\n",
       "      <th>EXT_SOURCE_2</th>\n",
       "      <th>LOG_AMT_CREDIT</th>\n",
       "      <th>LOG_AMT_GOODS_PRICE</th>\n",
       "      <th>LOG_AMT_ANNUITY</th>\n",
       "      <th>DAYS_EMPLOYED</th>\n",
       "      <th>DAYS_BIRTH</th>\n",
       "      <th>EXT_SOURCE_1</th>\n",
       "      <th>DAYS_ID_PUBLISH</th>\n",
       "      <th>DAYS_REGISTRATION</th>\n",
       "      <th>LOG_OWN_CAR_AGE</th>\n",
       "      <th>REGION_RATING_CLIENT_W_CITY</th>\n",
       "      <th>CODE_GENDER_M</th>\n",
       "      <th>ORGANIZATION_TYPE_Self-employed</th>\n",
       "      <th>ORGANIZATION_TYPE_Trade: type 2</th>\n",
       "      <th>REGION_POPULATION_RELATIVE</th>\n",
       "      <th>ORGANIZATION_TYPE_Transport: type 3</th>\n",
       "      <th>FLAG_DOCUMENT_16</th>\n",
       "      <th>REG_CITY_NOT_LIVE_CITY</th>\n",
       "      <th>FLAG_DOCUMENT_13</th>\n",
       "      <th>LOG_DAYS_LAST_PHONE_CHANGE</th>\n",
       "      <th>ORGANIZATION_TYPE_Realtor</th>\n",
       "      <th>FLAG_DOCUMENT_18</th>\n",
       "      <th>FLAG_DOCUMENT_3</th>\n",
       "      <th>FLAG_DOCUMENT_6</th>\n",
       "      <th>ORGANIZATION_TYPE_Construction</th>\n",
       "      <th>HOUR_APPR_PROCESS_START_17</th>\n",
       "      <th>OCCUPATION_TYPE_Core staff</th>\n",
       "      <th>NAME_INCOME_TYPE_Working</th>\n",
       "      <th>NAME_CONTRACT_TYPE_Cash loans</th>\n",
       "      <th>LOG_DEF_60_CNT_SOCIAL_CIRCLE</th>\n",
       "      <th>NAME_EDUCATION_TYPE_Higher education</th>\n",
       "      <th>NAME_EDUCATION_TYPE_Incomplete higher</th>\n",
       "      <th>NAME_FAMILY_STATUS_Married</th>\n",
       "      <th>NAME_HOUSING_TYPE_Municipal apartment</th>\n",
       "      <th>ORGANIZATION_TYPE_Military</th>\n",
       "      <th>ORGANIZATION_TYPE_Industry: type 9</th>\n",
       "      <th>TOTALAREA_MODE</th>\n",
       "      <th>BOOL_FLAG_OWN_CAR</th>\n",
       "      <th>AMT_REQ_CREDIT_BUREAU_QRT</th>\n",
       "      <th>SK_ID_CURR</th>\n",
       "    </tr>\n",
       "  </thead>\n",
       "  <tbody>\n",
       "    <tr>\n",
       "      <th>0</th>\n",
       "      <td>-0.699964</td>\n",
       "      <td>-1.109592</td>\n",
       "      <td>-0.212852</td>\n",
       "      <td>-0.237311</td>\n",
       "      <td>-0.011050</td>\n",
       "      <td>0.233104</td>\n",
       "      <td>0.865181</td>\n",
       "      <td>0.181994</td>\n",
       "      <td>0.439705</td>\n",
       "      <td>0.156504</td>\n",
       "      <td>0.000000</td>\n",
       "      <td>2</td>\n",
       "      <td>1</td>\n",
       "      <td>0</td>\n",
       "      <td>0</td>\n",
       "      <td>-0.002626</td>\n",
       "      <td>0</td>\n",
       "      <td>0</td>\n",
       "      <td>0</td>\n",
       "      <td>0</td>\n",
       "      <td>-0.289694</td>\n",
       "      <td>0</td>\n",
       "      <td>0</td>\n",
       "      <td>1</td>\n",
       "      <td>0</td>\n",
       "      <td>0</td>\n",
       "      <td>0</td>\n",
       "      <td>0</td>\n",
       "      <td>1</td>\n",
       "      <td>1</td>\n",
       "      <td>1.098612</td>\n",
       "      <td>0</td>\n",
       "      <td>0</td>\n",
       "      <td>0</td>\n",
       "      <td>0</td>\n",
       "      <td>0</td>\n",
       "      <td>0</td>\n",
       "      <td>0.140825</td>\n",
       "      <td>0</td>\n",
       "      <td>0.0</td>\n",
       "      <td>100002</td>\n",
       "    </tr>\n",
       "    <tr>\n",
       "      <th>1</th>\n",
       "      <td>-1.004534</td>\n",
       "      <td>0.208255</td>\n",
       "      <td>0.842157</td>\n",
       "      <td>0.878982</td>\n",
       "      <td>0.487362</td>\n",
       "      <td>0.010117</td>\n",
       "      <td>-0.139634</td>\n",
       "      <td>0.682213</td>\n",
       "      <td>1.148895</td>\n",
       "      <td>0.606637</td>\n",
       "      <td>0.000000</td>\n",
       "      <td>1</td>\n",
       "      <td>0</td>\n",
       "      <td>0</td>\n",
       "      <td>0</td>\n",
       "      <td>-0.820550</td>\n",
       "      <td>0</td>\n",
       "      <td>0</td>\n",
       "      <td>0</td>\n",
       "      <td>0</td>\n",
       "      <td>-0.052169</td>\n",
       "      <td>0</td>\n",
       "      <td>0</td>\n",
       "      <td>1</td>\n",
       "      <td>0</td>\n",
       "      <td>0</td>\n",
       "      <td>0</td>\n",
       "      <td>1</td>\n",
       "      <td>0</td>\n",
       "      <td>1</td>\n",
       "      <td>0.000000</td>\n",
       "      <td>1</td>\n",
       "      <td>0</td>\n",
       "      <td>1</td>\n",
       "      <td>0</td>\n",
       "      <td>0</td>\n",
       "      <td>0</td>\n",
       "      <td>0.944523</td>\n",
       "      <td>0</td>\n",
       "      <td>0.0</td>\n",
       "      <td>100003</td>\n",
       "    </tr>\n",
       "    <tr>\n",
       "      <th>2</th>\n",
       "      <td>0.589744</td>\n",
       "      <td>-0.035047</td>\n",
       "      <td>-1.217959</td>\n",
       "      <td>-1.149938</td>\n",
       "      <td>-1.766614</td>\n",
       "      <td>0.399838</td>\n",
       "      <td>-0.453432</td>\n",
       "      <td>0.000000</td>\n",
       "      <td>0.280341</td>\n",
       "      <td>0.044611</td>\n",
       "      <td>1.839442</td>\n",
       "      <td>2</td>\n",
       "      <td>1</td>\n",
       "      <td>0</td>\n",
       "      <td>0</td>\n",
       "      <td>-0.472638</td>\n",
       "      <td>0</td>\n",
       "      <td>0</td>\n",
       "      <td>0</td>\n",
       "      <td>0</td>\n",
       "      <td>-0.042539</td>\n",
       "      <td>0</td>\n",
       "      <td>0</td>\n",
       "      <td>0</td>\n",
       "      <td>0</td>\n",
       "      <td>0</td>\n",
       "      <td>0</td>\n",
       "      <td>0</td>\n",
       "      <td>1</td>\n",
       "      <td>0</td>\n",
       "      <td>0.000000</td>\n",
       "      <td>0</td>\n",
       "      <td>0</td>\n",
       "      <td>0</td>\n",
       "      <td>0</td>\n",
       "      <td>0</td>\n",
       "      <td>0</td>\n",
       "      <td>-0.071124</td>\n",
       "      <td>1</td>\n",
       "      <td>0.0</td>\n",
       "      <td>100004</td>\n",
       "    </tr>\n",
       "    <tr>\n",
       "      <th>3</th>\n",
       "      <td>-1.004534</td>\n",
       "      <td>0.311674</td>\n",
       "      <td>-0.452276</td>\n",
       "      <td>-0.396867</td>\n",
       "      <td>0.237785</td>\n",
       "      <td>-0.738972</td>\n",
       "      <td>-0.447792</td>\n",
       "      <td>0.000000</td>\n",
       "      <td>0.316789</td>\n",
       "      <td>-0.974312</td>\n",
       "      <td>0.000000</td>\n",
       "      <td>2</td>\n",
       "      <td>0</td>\n",
       "      <td>0</td>\n",
       "      <td>0</td>\n",
       "      <td>-0.580533</td>\n",
       "      <td>0</td>\n",
       "      <td>0</td>\n",
       "      <td>0</td>\n",
       "      <td>0</td>\n",
       "      <td>0.099924</td>\n",
       "      <td>0</td>\n",
       "      <td>0</td>\n",
       "      <td>1</td>\n",
       "      <td>0</td>\n",
       "      <td>0</td>\n",
       "      <td>1</td>\n",
       "      <td>0</td>\n",
       "      <td>1</td>\n",
       "      <td>1</td>\n",
       "      <td>0.000000</td>\n",
       "      <td>0</td>\n",
       "      <td>0</td>\n",
       "      <td>0</td>\n",
       "      <td>0</td>\n",
       "      <td>0</td>\n",
       "      <td>0</td>\n",
       "      <td>-0.071124</td>\n",
       "      <td>0</td>\n",
       "      <td>0.0</td>\n",
       "      <td>100006</td>\n",
       "    </tr>\n",
       "    <tr>\n",
       "      <th>4</th>\n",
       "      <td>-1.004534</td>\n",
       "      <td>-0.890293</td>\n",
       "      <td>-0.000943</td>\n",
       "      <td>0.125148</td>\n",
       "      <td>-0.176037</td>\n",
       "      <td>-0.738567</td>\n",
       "      <td>-0.575320</td>\n",
       "      <td>0.000000</td>\n",
       "      <td>-0.079100</td>\n",
       "      <td>0.035287</td>\n",
       "      <td>0.000000</td>\n",
       "      <td>2</td>\n",
       "      <td>1</td>\n",
       "      <td>0</td>\n",
       "      <td>0</td>\n",
       "      <td>0.525969</td>\n",
       "      <td>0</td>\n",
       "      <td>0</td>\n",
       "      <td>0</td>\n",
       "      <td>0</td>\n",
       "      <td>-0.267043</td>\n",
       "      <td>0</td>\n",
       "      <td>0</td>\n",
       "      <td>0</td>\n",
       "      <td>0</td>\n",
       "      <td>0</td>\n",
       "      <td>0</td>\n",
       "      <td>1</td>\n",
       "      <td>1</td>\n",
       "      <td>1</td>\n",
       "      <td>0.000000</td>\n",
       "      <td>0</td>\n",
       "      <td>0</td>\n",
       "      <td>0</td>\n",
       "      <td>0</td>\n",
       "      <td>0</td>\n",
       "      <td>0</td>\n",
       "      <td>-0.071124</td>\n",
       "      <td>0</td>\n",
       "      <td>0.0</td>\n",
       "      <td>100007</td>\n",
       "    </tr>\n",
       "    <tr>\n",
       "      <th>5</th>\n",
       "      <td>0.352995</td>\n",
       "      <td>-0.774805</td>\n",
       "      <td>-0.041838</td>\n",
       "      <td>0.009504</td>\n",
       "      <td>0.135108</td>\n",
       "      <td>-0.151760</td>\n",
       "      <td>-0.163846</td>\n",
       "      <td>0.000000</td>\n",
       "      <td>1.076774</td>\n",
       "      <td>-0.085200</td>\n",
       "      <td>0.000000</td>\n",
       "      <td>2</td>\n",
       "      <td>1</td>\n",
       "      <td>0</td>\n",
       "      <td>0</td>\n",
       "      <td>0.908077</td>\n",
       "      <td>0</td>\n",
       "      <td>0</td>\n",
       "      <td>0</td>\n",
       "      <td>0</td>\n",
       "      <td>-1.783715</td>\n",
       "      <td>0</td>\n",
       "      <td>0</td>\n",
       "      <td>1</td>\n",
       "      <td>0</td>\n",
       "      <td>0</td>\n",
       "      <td>0</td>\n",
       "      <td>0</td>\n",
       "      <td>0</td>\n",
       "      <td>1</td>\n",
       "      <td>0.000000</td>\n",
       "      <td>0</td>\n",
       "      <td>0</td>\n",
       "      <td>1</td>\n",
       "      <td>0</td>\n",
       "      <td>0</td>\n",
       "      <td>0</td>\n",
       "      <td>-0.071124</td>\n",
       "      <td>0</td>\n",
       "      <td>1.0</td>\n",
       "      <td>100008</td>\n",
       "    </tr>\n",
       "    <tr>\n",
       "      <th>6</th>\n",
       "      <td>0.070735</td>\n",
       "      <td>0.581474</td>\n",
       "      <td>1.013358</td>\n",
       "      <td>1.080627</td>\n",
       "      <td>0.684650</td>\n",
       "      <td>-0.775799</td>\n",
       "      <td>0.271289</td>\n",
       "      <td>1.698066</td>\n",
       "      <td>1.021714</td>\n",
       "      <td>0.601700</td>\n",
       "      <td>1.613147</td>\n",
       "      <td>2</td>\n",
       "      <td>0</td>\n",
       "      <td>0</td>\n",
       "      <td>0</td>\n",
       "      <td>0.908077</td>\n",
       "      <td>0</td>\n",
       "      <td>0</td>\n",
       "      <td>0</td>\n",
       "      <td>0</td>\n",
       "      <td>-0.662731</td>\n",
       "      <td>0</td>\n",
       "      <td>0</td>\n",
       "      <td>0</td>\n",
       "      <td>0</td>\n",
       "      <td>0</td>\n",
       "      <td>0</td>\n",
       "      <td>0</td>\n",
       "      <td>0</td>\n",
       "      <td>1</td>\n",
       "      <td>0.000000</td>\n",
       "      <td>1</td>\n",
       "      <td>0</td>\n",
       "      <td>1</td>\n",
       "      <td>0</td>\n",
       "      <td>0</td>\n",
       "      <td>0</td>\n",
       "      <td>-0.071124</td>\n",
       "      <td>1</td>\n",
       "      <td>1.0</td>\n",
       "      <td>100009</td>\n",
       "    </tr>\n",
       "    <tr>\n",
       "      <th>7</th>\n",
       "      <td>0.176926</td>\n",
       "      <td>0.545820</td>\n",
       "      <td>0.995232</td>\n",
       "      <td>1.168855</td>\n",
       "      <td>0.709777</td>\n",
       "      <td>0.309187</td>\n",
       "      <td>-0.426469</td>\n",
       "      <td>0.000000</td>\n",
       "      <td>0.339279</td>\n",
       "      <td>-0.017003</td>\n",
       "      <td>1.226294</td>\n",
       "      <td>3</td>\n",
       "      <td>1</td>\n",
       "      <td>0</td>\n",
       "      <td>0</td>\n",
       "      <td>-0.843008</td>\n",
       "      <td>0</td>\n",
       "      <td>0</td>\n",
       "      <td>0</td>\n",
       "      <td>0</td>\n",
       "      <td>-0.238205</td>\n",
       "      <td>0</td>\n",
       "      <td>0</td>\n",
       "      <td>1</td>\n",
       "      <td>0</td>\n",
       "      <td>0</td>\n",
       "      <td>0</td>\n",
       "      <td>0</td>\n",
       "      <td>0</td>\n",
       "      <td>1</td>\n",
       "      <td>0.000000</td>\n",
       "      <td>1</td>\n",
       "      <td>0</td>\n",
       "      <td>1</td>\n",
       "      <td>0</td>\n",
       "      <td>0</td>\n",
       "      <td>0</td>\n",
       "      <td>-0.071124</td>\n",
       "      <td>1</td>\n",
       "      <td>0.0</td>\n",
       "      <td>100010</td>\n",
       "    </tr>\n",
       "    <tr>\n",
       "      <th>8</th>\n",
       "      <td>0.638163</td>\n",
       "      <td>-1.319398</td>\n",
       "      <td>0.625251</td>\n",
       "      <td>0.676260</td>\n",
       "      <td>0.414466</td>\n",
       "      <td>26.316490</td>\n",
       "      <td>-0.598294</td>\n",
       "      <td>1.287277</td>\n",
       "      <td>-0.100814</td>\n",
       "      <td>-0.534418</td>\n",
       "      <td>0.000000</td>\n",
       "      <td>2</td>\n",
       "      <td>0</td>\n",
       "      <td>0</td>\n",
       "      <td>0</td>\n",
       "      <td>-0.011577</td>\n",
       "      <td>0</td>\n",
       "      <td>0</td>\n",
       "      <td>0</td>\n",
       "      <td>0</td>\n",
       "      <td>0.499918</td>\n",
       "      <td>0</td>\n",
       "      <td>0</td>\n",
       "      <td>1</td>\n",
       "      <td>0</td>\n",
       "      <td>0</td>\n",
       "      <td>0</td>\n",
       "      <td>0</td>\n",
       "      <td>0</td>\n",
       "      <td>1</td>\n",
       "      <td>0.000000</td>\n",
       "      <td>0</td>\n",
       "      <td>0</td>\n",
       "      <td>1</td>\n",
       "      <td>0</td>\n",
       "      <td>0</td>\n",
       "      <td>0</td>\n",
       "      <td>-0.071124</td>\n",
       "      <td>0</td>\n",
       "      <td>0.0</td>\n",
       "      <td>100011</td>\n",
       "    </tr>\n",
       "    <tr>\n",
       "      <th>9</th>\n",
       "      <td>-1.004534</td>\n",
       "      <td>0.664528</td>\n",
       "      <td>-0.216441</td>\n",
       "      <td>-0.100632</td>\n",
       "      <td>-0.279911</td>\n",
       "      <td>-0.326184</td>\n",
       "      <td>0.176228</td>\n",
       "      <td>0.000000</td>\n",
       "      <td>-0.286157</td>\n",
       "      <td>-1.816071</td>\n",
       "      <td>0.000000</td>\n",
       "      <td>2</td>\n",
       "      <td>1</td>\n",
       "      <td>0</td>\n",
       "      <td>0</td>\n",
       "      <td>0.044970</td>\n",
       "      <td>0</td>\n",
       "      <td>0</td>\n",
       "      <td>0</td>\n",
       "      <td>0</td>\n",
       "      <td>-0.768809</td>\n",
       "      <td>0</td>\n",
       "      <td>0</td>\n",
       "      <td>0</td>\n",
       "      <td>0</td>\n",
       "      <td>0</td>\n",
       "      <td>0</td>\n",
       "      <td>0</td>\n",
       "      <td>1</td>\n",
       "      <td>0</td>\n",
       "      <td>0.000000</td>\n",
       "      <td>0</td>\n",
       "      <td>0</td>\n",
       "      <td>0</td>\n",
       "      <td>0</td>\n",
       "      <td>0</td>\n",
       "      <td>0</td>\n",
       "      <td>-0.071124</td>\n",
       "      <td>0</td>\n",
       "      <td>0.0</td>\n",
       "      <td>100012</td>\n",
       "    </tr>\n",
       "  </tbody>\n",
       "</table>\n",
       "</div>"
      ],
      "text/plain": [
       "   EXT_SOURCE_3  EXT_SOURCE_2  LOG_AMT_CREDIT  LOG_AMT_GOODS_PRICE  \\\n",
       "0     -0.699964     -1.109592       -0.212852            -0.237311   \n",
       "1     -1.004534      0.208255        0.842157             0.878982   \n",
       "2      0.589744     -0.035047       -1.217959            -1.149938   \n",
       "3     -1.004534      0.311674       -0.452276            -0.396867   \n",
       "4     -1.004534     -0.890293       -0.000943             0.125148   \n",
       "5      0.352995     -0.774805       -0.041838             0.009504   \n",
       "6      0.070735      0.581474        1.013358             1.080627   \n",
       "7      0.176926      0.545820        0.995232             1.168855   \n",
       "8      0.638163     -1.319398        0.625251             0.676260   \n",
       "9     -1.004534      0.664528       -0.216441            -0.100632   \n",
       "\n",
       "   LOG_AMT_ANNUITY  DAYS_EMPLOYED  DAYS_BIRTH  EXT_SOURCE_1  DAYS_ID_PUBLISH  \\\n",
       "0        -0.011050       0.233104    0.865181      0.181994         0.439705   \n",
       "1         0.487362       0.010117   -0.139634      0.682213         1.148895   \n",
       "2        -1.766614       0.399838   -0.453432      0.000000         0.280341   \n",
       "3         0.237785      -0.738972   -0.447792      0.000000         0.316789   \n",
       "4        -0.176037      -0.738567   -0.575320      0.000000        -0.079100   \n",
       "5         0.135108      -0.151760   -0.163846      0.000000         1.076774   \n",
       "6         0.684650      -0.775799    0.271289      1.698066         1.021714   \n",
       "7         0.709777       0.309187   -0.426469      0.000000         0.339279   \n",
       "8         0.414466      26.316490   -0.598294      1.287277        -0.100814   \n",
       "9        -0.279911      -0.326184    0.176228      0.000000        -0.286157   \n",
       "\n",
       "   DAYS_REGISTRATION  LOG_OWN_CAR_AGE  REGION_RATING_CLIENT_W_CITY  \\\n",
       "0           0.156504         0.000000                            2   \n",
       "1           0.606637         0.000000                            1   \n",
       "2           0.044611         1.839442                            2   \n",
       "3          -0.974312         0.000000                            2   \n",
       "4           0.035287         0.000000                            2   \n",
       "5          -0.085200         0.000000                            2   \n",
       "6           0.601700         1.613147                            2   \n",
       "7          -0.017003         1.226294                            3   \n",
       "8          -0.534418         0.000000                            2   \n",
       "9          -1.816071         0.000000                            2   \n",
       "\n",
       "   CODE_GENDER_M  ORGANIZATION_TYPE_Self-employed  \\\n",
       "0              1                                0   \n",
       "1              0                                0   \n",
       "2              1                                0   \n",
       "3              0                                0   \n",
       "4              1                                0   \n",
       "5              1                                0   \n",
       "6              0                                0   \n",
       "7              1                                0   \n",
       "8              0                                0   \n",
       "9              1                                0   \n",
       "\n",
       "   ORGANIZATION_TYPE_Trade: type 2  REGION_POPULATION_RELATIVE  \\\n",
       "0                                0                   -0.002626   \n",
       "1                                0                   -0.820550   \n",
       "2                                0                   -0.472638   \n",
       "3                                0                   -0.580533   \n",
       "4                                0                    0.525969   \n",
       "5                                0                    0.908077   \n",
       "6                                0                    0.908077   \n",
       "7                                0                   -0.843008   \n",
       "8                                0                   -0.011577   \n",
       "9                                0                    0.044970   \n",
       "\n",
       "   ORGANIZATION_TYPE_Transport: type 3  FLAG_DOCUMENT_16  \\\n",
       "0                                    0                 0   \n",
       "1                                    0                 0   \n",
       "2                                    0                 0   \n",
       "3                                    0                 0   \n",
       "4                                    0                 0   \n",
       "5                                    0                 0   \n",
       "6                                    0                 0   \n",
       "7                                    0                 0   \n",
       "8                                    0                 0   \n",
       "9                                    0                 0   \n",
       "\n",
       "   REG_CITY_NOT_LIVE_CITY  FLAG_DOCUMENT_13  LOG_DAYS_LAST_PHONE_CHANGE  \\\n",
       "0                       0                 0                   -0.289694   \n",
       "1                       0                 0                   -0.052169   \n",
       "2                       0                 0                   -0.042539   \n",
       "3                       0                 0                    0.099924   \n",
       "4                       0                 0                   -0.267043   \n",
       "5                       0                 0                   -1.783715   \n",
       "6                       0                 0                   -0.662731   \n",
       "7                       0                 0                   -0.238205   \n",
       "8                       0                 0                    0.499918   \n",
       "9                       0                 0                   -0.768809   \n",
       "\n",
       "   ORGANIZATION_TYPE_Realtor  FLAG_DOCUMENT_18  FLAG_DOCUMENT_3  \\\n",
       "0                          0                 0                1   \n",
       "1                          0                 0                1   \n",
       "2                          0                 0                0   \n",
       "3                          0                 0                1   \n",
       "4                          0                 0                0   \n",
       "5                          0                 0                1   \n",
       "6                          0                 0                0   \n",
       "7                          0                 0                1   \n",
       "8                          0                 0                1   \n",
       "9                          0                 0                0   \n",
       "\n",
       "   FLAG_DOCUMENT_6  ORGANIZATION_TYPE_Construction  \\\n",
       "0                0                               0   \n",
       "1                0                               0   \n",
       "2                0                               0   \n",
       "3                0                               0   \n",
       "4                0                               0   \n",
       "5                0                               0   \n",
       "6                0                               0   \n",
       "7                0                               0   \n",
       "8                0                               0   \n",
       "9                0                               0   \n",
       "\n",
       "   HOUR_APPR_PROCESS_START_17  OCCUPATION_TYPE_Core staff  \\\n",
       "0                           0                           0   \n",
       "1                           0                           1   \n",
       "2                           0                           0   \n",
       "3                           1                           0   \n",
       "4                           0                           1   \n",
       "5                           0                           0   \n",
       "6                           0                           0   \n",
       "7                           0                           0   \n",
       "8                           0                           0   \n",
       "9                           0                           0   \n",
       "\n",
       "   NAME_INCOME_TYPE_Working  NAME_CONTRACT_TYPE_Cash loans  \\\n",
       "0                         1                              1   \n",
       "1                         0                              1   \n",
       "2                         1                              0   \n",
       "3                         1                              1   \n",
       "4                         1                              1   \n",
       "5                         0                              1   \n",
       "6                         0                              1   \n",
       "7                         0                              1   \n",
       "8                         0                              1   \n",
       "9                         1                              0   \n",
       "\n",
       "   LOG_DEF_60_CNT_SOCIAL_CIRCLE  NAME_EDUCATION_TYPE_Higher education  \\\n",
       "0                      1.098612                                     0   \n",
       "1                      0.000000                                     1   \n",
       "2                      0.000000                                     0   \n",
       "3                      0.000000                                     0   \n",
       "4                      0.000000                                     0   \n",
       "5                      0.000000                                     0   \n",
       "6                      0.000000                                     1   \n",
       "7                      0.000000                                     1   \n",
       "8                      0.000000                                     0   \n",
       "9                      0.000000                                     0   \n",
       "\n",
       "   NAME_EDUCATION_TYPE_Incomplete higher  NAME_FAMILY_STATUS_Married  \\\n",
       "0                                      0                           0   \n",
       "1                                      0                           1   \n",
       "2                                      0                           0   \n",
       "3                                      0                           0   \n",
       "4                                      0                           0   \n",
       "5                                      0                           1   \n",
       "6                                      0                           1   \n",
       "7                                      0                           1   \n",
       "8                                      0                           1   \n",
       "9                                      0                           0   \n",
       "\n",
       "   NAME_HOUSING_TYPE_Municipal apartment  ORGANIZATION_TYPE_Military  \\\n",
       "0                                      0                           0   \n",
       "1                                      0                           0   \n",
       "2                                      0                           0   \n",
       "3                                      0                           0   \n",
       "4                                      0                           0   \n",
       "5                                      0                           0   \n",
       "6                                      0                           0   \n",
       "7                                      0                           0   \n",
       "8                                      0                           0   \n",
       "9                                      0                           0   \n",
       "\n",
       "   ORGANIZATION_TYPE_Industry: type 9  TOTALAREA_MODE  BOOL_FLAG_OWN_CAR  \\\n",
       "0                                   0        0.140825                  0   \n",
       "1                                   0        0.944523                  0   \n",
       "2                                   0       -0.071124                  1   \n",
       "3                                   0       -0.071124                  0   \n",
       "4                                   0       -0.071124                  0   \n",
       "5                                   0       -0.071124                  0   \n",
       "6                                   0       -0.071124                  1   \n",
       "7                                   0       -0.071124                  1   \n",
       "8                                   0       -0.071124                  0   \n",
       "9                                   0       -0.071124                  0   \n",
       "\n",
       "   AMT_REQ_CREDIT_BUREAU_QRT  SK_ID_CURR  \n",
       "0                        0.0      100002  \n",
       "1                        0.0      100003  \n",
       "2                        0.0      100004  \n",
       "3                        0.0      100006  \n",
       "4                        0.0      100007  \n",
       "5                        1.0      100008  \n",
       "6                        1.0      100009  \n",
       "7                        0.0      100010  \n",
       "8                        0.0      100011  \n",
       "9                        0.0      100012  "
      ]
     },
     "metadata": {},
     "output_type": "display_data"
    }
   ],
   "source": [
    "display(application_train.head(n=10))"
   ]
  },
  {
   "cell_type": "markdown",
   "metadata": {},
   "source": [
    "#### Bureau Data"
   ]
  },
  {
   "cell_type": "code",
   "execution_count": 5,
   "metadata": {
    "scrolled": false
   },
   "outputs": [
    {
     "data": {
      "text/html": [
       "<div>\n",
       "<style scoped>\n",
       "    .dataframe tbody tr th:only-of-type {\n",
       "        vertical-align: middle;\n",
       "    }\n",
       "\n",
       "    .dataframe tbody tr th {\n",
       "        vertical-align: top;\n",
       "    }\n",
       "\n",
       "    .dataframe thead th {\n",
       "        text-align: right;\n",
       "    }\n",
       "</style>\n",
       "<table border=\"1\" class=\"dataframe\">\n",
       "  <thead>\n",
       "    <tr style=\"text-align: right;\">\n",
       "      <th></th>\n",
       "      <th>SK_ID_CURR</th>\n",
       "      <th>SK_ID_BUREAU</th>\n",
       "      <th>CREDIT_ACTIVE</th>\n",
       "      <th>CREDIT_CURRENCY</th>\n",
       "      <th>DAYS_CREDIT</th>\n",
       "      <th>CREDIT_DAY_OVERDUE</th>\n",
       "      <th>DAYS_CREDIT_ENDDATE</th>\n",
       "      <th>DAYS_ENDDATE_FACT</th>\n",
       "      <th>AMT_CREDIT_MAX_OVERDUE</th>\n",
       "      <th>CNT_CREDIT_PROLONG</th>\n",
       "      <th>AMT_CREDIT_SUM</th>\n",
       "      <th>AMT_CREDIT_SUM_DEBT</th>\n",
       "      <th>AMT_CREDIT_SUM_LIMIT</th>\n",
       "      <th>AMT_CREDIT_SUM_OVERDUE</th>\n",
       "      <th>CREDIT_TYPE</th>\n",
       "      <th>DAYS_CREDIT_UPDATE</th>\n",
       "      <th>AMT_ANNUITY</th>\n",
       "    </tr>\n",
       "  </thead>\n",
       "  <tbody>\n",
       "    <tr>\n",
       "      <th>0</th>\n",
       "      <td>215354</td>\n",
       "      <td>5714462</td>\n",
       "      <td>Closed</td>\n",
       "      <td>currency 1</td>\n",
       "      <td>-497</td>\n",
       "      <td>0</td>\n",
       "      <td>-153.0</td>\n",
       "      <td>-153.0</td>\n",
       "      <td>NaN</td>\n",
       "      <td>0</td>\n",
       "      <td>91323.00</td>\n",
       "      <td>0.00</td>\n",
       "      <td>NaN</td>\n",
       "      <td>0.0</td>\n",
       "      <td>Consumer credit</td>\n",
       "      <td>-131</td>\n",
       "      <td>NaN</td>\n",
       "    </tr>\n",
       "    <tr>\n",
       "      <th>1</th>\n",
       "      <td>215354</td>\n",
       "      <td>5714463</td>\n",
       "      <td>Active</td>\n",
       "      <td>currency 1</td>\n",
       "      <td>-208</td>\n",
       "      <td>0</td>\n",
       "      <td>1075.0</td>\n",
       "      <td>NaN</td>\n",
       "      <td>NaN</td>\n",
       "      <td>0</td>\n",
       "      <td>225000.00</td>\n",
       "      <td>171342.00</td>\n",
       "      <td>NaN</td>\n",
       "      <td>0.0</td>\n",
       "      <td>Credit card</td>\n",
       "      <td>-20</td>\n",
       "      <td>NaN</td>\n",
       "    </tr>\n",
       "    <tr>\n",
       "      <th>2</th>\n",
       "      <td>215354</td>\n",
       "      <td>5714464</td>\n",
       "      <td>Active</td>\n",
       "      <td>currency 1</td>\n",
       "      <td>-203</td>\n",
       "      <td>0</td>\n",
       "      <td>528.0</td>\n",
       "      <td>NaN</td>\n",
       "      <td>NaN</td>\n",
       "      <td>0</td>\n",
       "      <td>464323.50</td>\n",
       "      <td>NaN</td>\n",
       "      <td>NaN</td>\n",
       "      <td>0.0</td>\n",
       "      <td>Consumer credit</td>\n",
       "      <td>-16</td>\n",
       "      <td>NaN</td>\n",
       "    </tr>\n",
       "    <tr>\n",
       "      <th>3</th>\n",
       "      <td>215354</td>\n",
       "      <td>5714465</td>\n",
       "      <td>Active</td>\n",
       "      <td>currency 1</td>\n",
       "      <td>-203</td>\n",
       "      <td>0</td>\n",
       "      <td>NaN</td>\n",
       "      <td>NaN</td>\n",
       "      <td>NaN</td>\n",
       "      <td>0</td>\n",
       "      <td>90000.00</td>\n",
       "      <td>NaN</td>\n",
       "      <td>NaN</td>\n",
       "      <td>0.0</td>\n",
       "      <td>Credit card</td>\n",
       "      <td>-16</td>\n",
       "      <td>NaN</td>\n",
       "    </tr>\n",
       "    <tr>\n",
       "      <th>4</th>\n",
       "      <td>215354</td>\n",
       "      <td>5714466</td>\n",
       "      <td>Active</td>\n",
       "      <td>currency 1</td>\n",
       "      <td>-629</td>\n",
       "      <td>0</td>\n",
       "      <td>1197.0</td>\n",
       "      <td>NaN</td>\n",
       "      <td>77674.5</td>\n",
       "      <td>0</td>\n",
       "      <td>2700000.00</td>\n",
       "      <td>NaN</td>\n",
       "      <td>NaN</td>\n",
       "      <td>0.0</td>\n",
       "      <td>Consumer credit</td>\n",
       "      <td>-21</td>\n",
       "      <td>NaN</td>\n",
       "    </tr>\n",
       "    <tr>\n",
       "      <th>5</th>\n",
       "      <td>215354</td>\n",
       "      <td>5714467</td>\n",
       "      <td>Active</td>\n",
       "      <td>currency 1</td>\n",
       "      <td>-273</td>\n",
       "      <td>0</td>\n",
       "      <td>27460.0</td>\n",
       "      <td>NaN</td>\n",
       "      <td>0.0</td>\n",
       "      <td>0</td>\n",
       "      <td>180000.00</td>\n",
       "      <td>71017.38</td>\n",
       "      <td>108982.62</td>\n",
       "      <td>0.0</td>\n",
       "      <td>Credit card</td>\n",
       "      <td>-31</td>\n",
       "      <td>NaN</td>\n",
       "    </tr>\n",
       "    <tr>\n",
       "      <th>6</th>\n",
       "      <td>215354</td>\n",
       "      <td>5714468</td>\n",
       "      <td>Active</td>\n",
       "      <td>currency 1</td>\n",
       "      <td>-43</td>\n",
       "      <td>0</td>\n",
       "      <td>79.0</td>\n",
       "      <td>NaN</td>\n",
       "      <td>0.0</td>\n",
       "      <td>0</td>\n",
       "      <td>42103.80</td>\n",
       "      <td>42103.80</td>\n",
       "      <td>0.00</td>\n",
       "      <td>0.0</td>\n",
       "      <td>Consumer credit</td>\n",
       "      <td>-22</td>\n",
       "      <td>NaN</td>\n",
       "    </tr>\n",
       "    <tr>\n",
       "      <th>7</th>\n",
       "      <td>162297</td>\n",
       "      <td>5714469</td>\n",
       "      <td>Closed</td>\n",
       "      <td>currency 1</td>\n",
       "      <td>-1896</td>\n",
       "      <td>0</td>\n",
       "      <td>-1684.0</td>\n",
       "      <td>-1710.0</td>\n",
       "      <td>14985.0</td>\n",
       "      <td>0</td>\n",
       "      <td>76878.45</td>\n",
       "      <td>0.00</td>\n",
       "      <td>0.00</td>\n",
       "      <td>0.0</td>\n",
       "      <td>Consumer credit</td>\n",
       "      <td>-1710</td>\n",
       "      <td>NaN</td>\n",
       "    </tr>\n",
       "    <tr>\n",
       "      <th>8</th>\n",
       "      <td>162297</td>\n",
       "      <td>5714470</td>\n",
       "      <td>Closed</td>\n",
       "      <td>currency 1</td>\n",
       "      <td>-1146</td>\n",
       "      <td>0</td>\n",
       "      <td>-811.0</td>\n",
       "      <td>-840.0</td>\n",
       "      <td>0.0</td>\n",
       "      <td>0</td>\n",
       "      <td>103007.70</td>\n",
       "      <td>0.00</td>\n",
       "      <td>0.00</td>\n",
       "      <td>0.0</td>\n",
       "      <td>Consumer credit</td>\n",
       "      <td>-840</td>\n",
       "      <td>NaN</td>\n",
       "    </tr>\n",
       "    <tr>\n",
       "      <th>9</th>\n",
       "      <td>162297</td>\n",
       "      <td>5714471</td>\n",
       "      <td>Active</td>\n",
       "      <td>currency 1</td>\n",
       "      <td>-1146</td>\n",
       "      <td>0</td>\n",
       "      <td>-484.0</td>\n",
       "      <td>NaN</td>\n",
       "      <td>0.0</td>\n",
       "      <td>0</td>\n",
       "      <td>4500.00</td>\n",
       "      <td>0.00</td>\n",
       "      <td>0.00</td>\n",
       "      <td>0.0</td>\n",
       "      <td>Credit card</td>\n",
       "      <td>-690</td>\n",
       "      <td>NaN</td>\n",
       "    </tr>\n",
       "  </tbody>\n",
       "</table>\n",
       "</div>"
      ],
      "text/plain": [
       "   SK_ID_CURR  SK_ID_BUREAU CREDIT_ACTIVE CREDIT_CURRENCY  DAYS_CREDIT  \\\n",
       "0      215354       5714462        Closed      currency 1         -497   \n",
       "1      215354       5714463        Active      currency 1         -208   \n",
       "2      215354       5714464        Active      currency 1         -203   \n",
       "3      215354       5714465        Active      currency 1         -203   \n",
       "4      215354       5714466        Active      currency 1         -629   \n",
       "5      215354       5714467        Active      currency 1         -273   \n",
       "6      215354       5714468        Active      currency 1          -43   \n",
       "7      162297       5714469        Closed      currency 1        -1896   \n",
       "8      162297       5714470        Closed      currency 1        -1146   \n",
       "9      162297       5714471        Active      currency 1        -1146   \n",
       "\n",
       "   CREDIT_DAY_OVERDUE  DAYS_CREDIT_ENDDATE  DAYS_ENDDATE_FACT  \\\n",
       "0                   0               -153.0             -153.0   \n",
       "1                   0               1075.0                NaN   \n",
       "2                   0                528.0                NaN   \n",
       "3                   0                  NaN                NaN   \n",
       "4                   0               1197.0                NaN   \n",
       "5                   0              27460.0                NaN   \n",
       "6                   0                 79.0                NaN   \n",
       "7                   0              -1684.0            -1710.0   \n",
       "8                   0               -811.0             -840.0   \n",
       "9                   0               -484.0                NaN   \n",
       "\n",
       "   AMT_CREDIT_MAX_OVERDUE  CNT_CREDIT_PROLONG  AMT_CREDIT_SUM  \\\n",
       "0                     NaN                   0        91323.00   \n",
       "1                     NaN                   0       225000.00   \n",
       "2                     NaN                   0       464323.50   \n",
       "3                     NaN                   0        90000.00   \n",
       "4                 77674.5                   0      2700000.00   \n",
       "5                     0.0                   0       180000.00   \n",
       "6                     0.0                   0        42103.80   \n",
       "7                 14985.0                   0        76878.45   \n",
       "8                     0.0                   0       103007.70   \n",
       "9                     0.0                   0         4500.00   \n",
       "\n",
       "   AMT_CREDIT_SUM_DEBT  AMT_CREDIT_SUM_LIMIT  AMT_CREDIT_SUM_OVERDUE  \\\n",
       "0                 0.00                   NaN                     0.0   \n",
       "1            171342.00                   NaN                     0.0   \n",
       "2                  NaN                   NaN                     0.0   \n",
       "3                  NaN                   NaN                     0.0   \n",
       "4                  NaN                   NaN                     0.0   \n",
       "5             71017.38             108982.62                     0.0   \n",
       "6             42103.80                  0.00                     0.0   \n",
       "7                 0.00                  0.00                     0.0   \n",
       "8                 0.00                  0.00                     0.0   \n",
       "9                 0.00                  0.00                     0.0   \n",
       "\n",
       "       CREDIT_TYPE  DAYS_CREDIT_UPDATE  AMT_ANNUITY  \n",
       "0  Consumer credit                -131          NaN  \n",
       "1      Credit card                 -20          NaN  \n",
       "2  Consumer credit                 -16          NaN  \n",
       "3      Credit card                 -16          NaN  \n",
       "4  Consumer credit                 -21          NaN  \n",
       "5      Credit card                 -31          NaN  \n",
       "6  Consumer credit                 -22          NaN  \n",
       "7  Consumer credit               -1710          NaN  \n",
       "8  Consumer credit                -840          NaN  \n",
       "9      Credit card                -690          NaN  "
      ]
     },
     "metadata": {},
     "output_type": "display_data"
    }
   ],
   "source": [
    "display(bureau_data.head(n=10))"
   ]
  },
  {
   "cell_type": "markdown",
   "metadata": {},
   "source": [
    "#### Bureau Balance Data"
   ]
  },
  {
   "cell_type": "code",
   "execution_count": 6,
   "metadata": {
    "scrolled": false
   },
   "outputs": [
    {
     "data": {
      "text/html": [
       "<div>\n",
       "<style scoped>\n",
       "    .dataframe tbody tr th:only-of-type {\n",
       "        vertical-align: middle;\n",
       "    }\n",
       "\n",
       "    .dataframe tbody tr th {\n",
       "        vertical-align: top;\n",
       "    }\n",
       "\n",
       "    .dataframe thead th {\n",
       "        text-align: right;\n",
       "    }\n",
       "</style>\n",
       "<table border=\"1\" class=\"dataframe\">\n",
       "  <thead>\n",
       "    <tr style=\"text-align: right;\">\n",
       "      <th></th>\n",
       "      <th>SK_ID_BUREAU</th>\n",
       "      <th>MONTHS_BALANCE</th>\n",
       "      <th>STATUS</th>\n",
       "    </tr>\n",
       "  </thead>\n",
       "  <tbody>\n",
       "    <tr>\n",
       "      <th>0</th>\n",
       "      <td>5715448</td>\n",
       "      <td>0</td>\n",
       "      <td>C</td>\n",
       "    </tr>\n",
       "    <tr>\n",
       "      <th>1</th>\n",
       "      <td>5715448</td>\n",
       "      <td>-1</td>\n",
       "      <td>C</td>\n",
       "    </tr>\n",
       "    <tr>\n",
       "      <th>2</th>\n",
       "      <td>5715448</td>\n",
       "      <td>-2</td>\n",
       "      <td>C</td>\n",
       "    </tr>\n",
       "    <tr>\n",
       "      <th>3</th>\n",
       "      <td>5715448</td>\n",
       "      <td>-3</td>\n",
       "      <td>C</td>\n",
       "    </tr>\n",
       "    <tr>\n",
       "      <th>4</th>\n",
       "      <td>5715448</td>\n",
       "      <td>-4</td>\n",
       "      <td>C</td>\n",
       "    </tr>\n",
       "    <tr>\n",
       "      <th>5</th>\n",
       "      <td>5715448</td>\n",
       "      <td>-5</td>\n",
       "      <td>C</td>\n",
       "    </tr>\n",
       "    <tr>\n",
       "      <th>6</th>\n",
       "      <td>5715448</td>\n",
       "      <td>-6</td>\n",
       "      <td>C</td>\n",
       "    </tr>\n",
       "    <tr>\n",
       "      <th>7</th>\n",
       "      <td>5715448</td>\n",
       "      <td>-7</td>\n",
       "      <td>C</td>\n",
       "    </tr>\n",
       "    <tr>\n",
       "      <th>8</th>\n",
       "      <td>5715448</td>\n",
       "      <td>-8</td>\n",
       "      <td>C</td>\n",
       "    </tr>\n",
       "    <tr>\n",
       "      <th>9</th>\n",
       "      <td>5715448</td>\n",
       "      <td>-9</td>\n",
       "      <td>0</td>\n",
       "    </tr>\n",
       "  </tbody>\n",
       "</table>\n",
       "</div>"
      ],
      "text/plain": [
       "   SK_ID_BUREAU  MONTHS_BALANCE STATUS\n",
       "0       5715448               0      C\n",
       "1       5715448              -1      C\n",
       "2       5715448              -2      C\n",
       "3       5715448              -3      C\n",
       "4       5715448              -4      C\n",
       "5       5715448              -5      C\n",
       "6       5715448              -6      C\n",
       "7       5715448              -7      C\n",
       "8       5715448              -8      C\n",
       "9       5715448              -9      0"
      ]
     },
     "metadata": {},
     "output_type": "display_data"
    }
   ],
   "source": [
    "display(bureau_balance_data.head(n=10))"
   ]
  },
  {
   "cell_type": "markdown",
   "metadata": {},
   "source": [
    "### Utility Functions"
   ]
  },
  {
   "cell_type": "code",
   "execution_count": 7,
   "metadata": {},
   "outputs": [],
   "source": [
    "# Visualize the contents of a non-numeric column\n",
    "\n",
    "def explore_non_numeric(field, showDetails=True):\n",
    "\n",
    "    # Inspired By: \n",
    "    # https://stackoverflow.com/questions/10741346/numpy-most-efficient-frequency-counts-for-unique-values-in-an-array\n",
    "\n",
    "    unique, counts = np.unique(field, return_counts=True)\n",
    "    total_records = np.size(field)\n",
    "\n",
    "    if (showDetails): \n",
    "        i = 0\n",
    "        while i < np.size(unique): \n",
    "            percentage = (counts[i] / total_records) * 100\n",
    "            print(\"Value: {0} Count: {1} Percentage: {2}\".format(unique[i], counts[i], percentage))\n",
    "            i += 1\n",
    "\n",
    "    # Example code from: https://matplotlib.org/examples/pie_and_polar_charts/pie_demo_features.html\n",
    "    fig1, ax1 = plt.subplots()\n",
    "    ax1.pie(counts, labels=unique, autopct='%1.1f%%',shadow=True, startangle=90)\n",
    "    ax1.axis('equal')  # Equal aspect ratio ensures that pie is drawn as a circle.\n",
    "    plt.show()"
   ]
  },
  {
   "cell_type": "code",
   "execution_count": 8,
   "metadata": {},
   "outputs": [],
   "source": [
    "# Visualize the contents of a numeric column\n",
    "\n",
    "def explore_numeric(field, showUnique=False, graphType=\"dist\", bins=20, showMeanLines=True):     \n",
    "    mean = np.mean(field)\n",
    "    avg = np.average(field)\n",
    "    \n",
    "    # Take a look at the range\n",
    "    print(\"Max: {0} Min: {1} Mean: {2} Avg: {3} Std: {4}\".format(\n",
    "    np.max(field),\n",
    "    np.min(field),\n",
    "    mean,\n",
    "    avg,\n",
    "    np.std(field)))\n",
    "\n",
    "    # Unique Values\n",
    "    # print(\"Values: {0}\".format(application_train['CNT_CHILDREN'].unique()))\n",
    "\n",
    "    if (showUnique): \n",
    "    \n",
    "        unique, counts = np.unique(application_train['CNT_CHILDREN'], return_counts=True)\n",
    "        total_records = np.size(application_train['CNT_CHILDREN'])\n",
    "\n",
    "        i = 0\n",
    "        while i < np.size(unique): \n",
    "            percentage = (counts[i] / total_records) * 100\n",
    "            print(\"Value: {0} Count: {1} Percentage: {2}\".format(unique[i], counts[i], percentage))\n",
    "            i += 1\n",
    "\n",
    "    # Examine distribution\n",
    "    plt.figure(figsize=(15,10))\n",
    "    plt.title(\"Distribution Graph\")\n",
    "    if (showMeanLines):\n",
    "        plt.axvline(avg, color=\"red\")    # Plot the average\n",
    "        plt.axvline(mean, color=\"green\") # Plot the mean\n",
    "    \n",
    "    if (graphType == \"hist\"): \n",
    "        sns.distplot(field,bins=bins)\n",
    "    else: \n",
    "        sns.distplot(field)"
   ]
  },
  {
   "cell_type": "markdown",
   "metadata": {},
   "source": [
    "### Original Fields\n",
    "The unedited fields from burea_data and bureau_balance_data.  We'll need to use these to create features that we can combine with the application_train dataset."
   ]
  },
  {
   "cell_type": "markdown",
   "metadata": {},
   "source": [
    "#### CREDIT_TYPE\n",
    "Type of Credit Bureau credit (Car, cash,...)"
   ]
  },
  {
   "cell_type": "code",
   "execution_count": 9,
   "metadata": {
    "scrolled": false
   },
   "outputs": [
    {
     "name": "stdout",
     "output_type": "stream",
     "text": [
      "Value: 0 Count: 1017 Percentage: 0.05925095605524962\n",
      "Value: 1 Count: 27690 Percentage: 1.6132339952506018\n",
      "Value: 2 Count: 56 Percentage: 0.003262589517299881\n",
      "Value: 3 Count: 1251615 Percentage: 72.91974961955876\n",
      "Value: 4 Count: 402195 Percentage: 23.43209269482903\n",
      "Value: 5 Count: 1 Percentage: 5.826052709464073e-05\n",
      "Value: 6 Count: 1975 Percentage: 0.11506454101191543\n",
      "Value: 7 Count: 4 Percentage: 0.00023304210837856292\n",
      "Value: 8 Count: 19 Percentage: 0.001106950014798174\n",
      "Value: 9 Count: 469 Percentage: 0.027324187207386504\n",
      "Value: 10 Count: 12413 Percentage: 0.7231879228257754\n",
      "Value: 11 Count: 1 Percentage: 5.826052709464073e-05\n",
      "Value: 12 Count: 18391 Percentage: 1.0714693537975377\n",
      "Value: 13 Count: 27 Percentage: 0.0015730342315552995\n",
      "Value: 14 Count: 555 Percentage: 0.03233459253752561\n"
     ]
    },
    {
     "data": {
      "image/png": "[encoded data removed]",
      "text/plain": [
       "<Figure size 432x288 with 1 Axes>"
      ]
     },
     "metadata": {},
     "output_type": "display_data"
    }
   ],
   "source": [
    "from sklearn.preprocessing import LabelEncoder\n",
    "lb_make = LabelEncoder()\n",
    "\n",
    "# The CREDIT_TYPE labels were pretty ridiculous.  Encoding them as Integers for ease of use.\n",
    "\n",
    "bureau_data[\"CREDIT_TYPE_CODE\"] = lb_make.fit_transform(bureau_data[\"CREDIT_TYPE\"])\n",
    "bureau_data[[\"CREDIT_TYPE\", \"CREDIT_TYPE_CODE\"]].head(11)\n",
    "\n",
    "explore_non_numeric(bureau_data['CREDIT_TYPE_CODE'])\n",
    "\n",
    "non_numeric_features.append('CREDIT_TYPE_CODE')"
   ]
  },
  {
   "cell_type": "markdown",
   "metadata": {},
   "source": [
    "#### CREDIT_ACTIVE\n",
    "Status of the Credit Bureau (CB) reported credits"
   ]
  },
  {
   "cell_type": "code",
   "execution_count": 10,
   "metadata": {},
   "outputs": [
    {
     "name": "stdout",
     "output_type": "stream",
     "text": [
      "Value: 0 Count: 630607 Percentage: 36.739496209570106\n",
      "Value: 1 Count: 21 Percentage: 0.0012234710689874554\n",
      "Value: 2 Count: 1079273 Percentage: 62.87901385901419\n",
      "Value: 3 Count: 6527 Percentage: 0.38026646034672007\n"
     ]
    },
    {
     "data": {
      "image/png": "[encoded data removed]",
      "text/plain": [
       "<Figure size 432x288 with 1 Axes>"
      ]
     },
     "metadata": {},
     "output_type": "display_data"
    }
   ],
   "source": [
    "lb_make = LabelEncoder()\n",
    "\n",
    "# The CREDIT_TYPE labels were pretty ridiculous.  Encoding them as Integers for ease of use.\n",
    "\n",
    "bureau_data[\"CREDIT_ACTIVE_CODE\"] = lb_make.fit_transform(bureau_data[\"CREDIT_ACTIVE\"])\n",
    "bureau_data[[\"CREDIT_ACTIVE\", \"CREDIT_ACTIVE_CODE\"]].head(11)\n",
    "\n",
    "explore_non_numeric(bureau_data['CREDIT_ACTIVE_CODE'])\n",
    "\n",
    "non_numeric_features.append('CREDIT_ACTIVE_CODE')"
   ]
  },
  {
   "cell_type": "markdown",
   "metadata": {},
   "source": [
    "#### CREDIT_CURRENCY\n",
    "Recoded currency of the Credit Bureau credit"
   ]
  },
  {
   "cell_type": "code",
   "execution_count": 11,
   "metadata": {
    "scrolled": true
   },
   "outputs": [
    {
     "name": "stdout",
     "output_type": "stream",
     "text": [
      "Value: 0 Count: 1715020 Percentage: 99.91796917785074\n",
      "Value: 1 Count: 1224 Percentage: 0.07131088516384025\n",
      "Value: 2 Count: 174 Percentage: 0.010137331714467486\n",
      "Value: 3 Count: 10 Percentage: 0.0005826052709464073\n"
     ]
    },
    {
     "data": {
      "image/png": "[encoded data removed]",
      "text/plain": [
       "<Figure size 432x288 with 1 Axes>"
      ]
     },
     "metadata": {},
     "output_type": "display_data"
    }
   ],
   "source": [
    "lb_make = LabelEncoder()\n",
    "\n",
    "# The CREDIT_CURRENCY labels were pretty ridiculous.  Encoding them as Integers for ease of use.\n",
    "\n",
    "bureau_data[\"CREDIT_CURRENCY_CODE\"] = lb_make.fit_transform(bureau_data[\"CREDIT_CURRENCY\"])\n",
    "bureau_data[[\"CREDIT_CURRENCY\", \"CREDIT_CURRENCY_CODE\"]].head(11)\n",
    "\n",
    "explore_non_numeric(bureau_data['CREDIT_CURRENCY_CODE'])\n",
    "\n",
    "non_numeric_features.append('CREDIT_CURRENCY_CODE')"
   ]
  },
  {
   "cell_type": "markdown",
   "metadata": {},
   "source": [
    "### DAYS_CREDIT\n",
    "How many days before current application did client apply for Credit Bureau credit"
   ]
  },
  {
   "cell_type": "code",
   "execution_count": 12,
   "metadata": {
    "scrolled": false
   },
   "outputs": [
    {
     "name": "stdout",
     "output_type": "stream",
     "text": [
      "Max: 0 Min: -2922 Mean: -1142.107684680045 Avg: -1142.107684680045 Std: 795.1646965716541\n"
     ]
    },
    {
     "name": "stderr",
     "output_type": "stream",
     "text": [
      "/Users/jeclark/.local/lib/python3.6/site-packages/matplotlib/axes/_axes.py:6462: UserWarning: The 'normed' kwarg is deprecated, and has been replaced by the 'density' kwarg.\n",
      "  warnings.warn(\"The 'normed' kwarg is deprecated, and has been \"\n"
     ]
    },
    {
     "data": {
      "image/png": "[encoded data removed]",
      "text/plain": [
       "<Figure size 1080x720 with 1 Axes>"
      ]
     },
     "metadata": {},
     "output_type": "display_data"
    }
   ],
   "source": [
    "explore_numeric(bureau_data['DAYS_CREDIT']) "
   ]
  },
  {
   "cell_type": "markdown",
   "metadata": {},
   "source": [
    "##### CREDIT_DAY_OVERDUE\n",
    "Number of days past due on CB credit at the time of application for related loan in our sample"
   ]
  },
  {
   "cell_type": "code",
   "execution_count": 13,
   "metadata": {
    "scrolled": false
   },
   "outputs": [
    {
     "name": "stdout",
     "output_type": "stream",
     "text": [
      "Max: 2792 Min: 0 Mean: 0.8181665645165425 Avg: 0.8181665645165425 Std: 36.54441736067727\n"
     ]
    },
    {
     "name": "stderr",
     "output_type": "stream",
     "text": [
      "/Users/jeclark/.local/lib/python3.6/site-packages/matplotlib/axes/_axes.py:6462: UserWarning: The 'normed' kwarg is deprecated, and has been replaced by the 'density' kwarg.\n",
      "  warnings.warn(\"The 'normed' kwarg is deprecated, and has been \"\n"
     ]
    },
    {
     "data": {
      "image/png": "[encoded data removed]",
      "text/plain": [
       "<Figure size 1080x720 with 1 Axes>"
      ]
     },
     "metadata": {},
     "output_type": "display_data"
    }
   ],
   "source": [
    "explore_numeric(bureau_data['CREDIT_DAY_OVERDUE'])"
   ]
  },
  {
   "cell_type": "markdown",
   "metadata": {},
   "source": [
    "#### DAYS_CREDIT_ENDDATE\n",
    "Remaining duration of CB credit (in days) at the time of application in Home Credit"
   ]
  },
  {
   "cell_type": "code",
   "execution_count": 14,
   "metadata": {
    "scrolled": false
   },
   "outputs": [
    {
     "name": "stdout",
     "output_type": "stream",
     "text": [
      "Max: 31199.0 Min: -42060.0 Mean: 479.12272230469324 Avg: 479.12272230469324 Std: 4839.774610490461\n"
     ]
    },
    {
     "name": "stderr",
     "output_type": "stream",
     "text": [
      "/Users/jeclark/.local/lib/python3.6/site-packages/matplotlib/axes/_axes.py:6462: UserWarning: The 'normed' kwarg is deprecated, and has been replaced by the 'density' kwarg.\n",
      "  warnings.warn(\"The 'normed' kwarg is deprecated, and has been \"\n"
     ]
    },
    {
     "data": {
      "image/png": "[encoded data removed]",
      "text/plain": [
       "<Figure size 1080x720 with 1 Axes>"
      ]
     },
     "metadata": {},
     "output_type": "display_data"
    }
   ],
   "source": [
    "days_credit_enddate = np.nan_to_num(bureau_data['DAYS_CREDIT_ENDDATE'])\n",
    "explore_numeric(days_credit_enddate)"
   ]
  },
  {
   "cell_type": "markdown",
   "metadata": {},
   "source": [
    "#### DAYS_ENDDATE_FACT\n",
    "Days since CB credit ended at the time of application in Home Credit (only for closed credit)"
   ]
  },
  {
   "cell_type": "code",
   "execution_count": 15,
   "metadata": {
    "scrolled": false
   },
   "outputs": [
    {
     "name": "stdout",
     "output_type": "stream",
     "text": [
      "Max: 0.0 Min: -42023.0 Mean: -641.830305727942 Avg: -641.830305727942 Std: 750.1199610264179\n"
     ]
    },
    {
     "name": "stderr",
     "output_type": "stream",
     "text": [
      "/Users/jeclark/.local/lib/python3.6/site-packages/matplotlib/axes/_axes.py:6462: UserWarning: The 'normed' kwarg is deprecated, and has been replaced by the 'density' kwarg.\n",
      "  warnings.warn(\"The 'normed' kwarg is deprecated, and has been \"\n"
     ]
    },
    {
     "data": {
      "image/png": "[encoded data removed]",
      "text/plain": [
       "<Figure size 1080x720 with 1 Axes>"
      ]
     },
     "metadata": {},
     "output_type": "display_data"
    }
   ],
   "source": [
    "# Convert Non-Numerics\n",
    "days_enddate = np.nan_to_num(bureau_data['DAYS_ENDDATE_FACT'], copy=True)\n",
    "explore_numeric(days_enddate)"
   ]
  },
  {
   "cell_type": "markdown",
   "metadata": {},
   "source": [
    "#### AMT_CREDIT_MAX_OVERDUE\n",
    "Maximal amount overdue on the Credit Bureau credit so far (at application date of loan in our sample)"
   ]
  },
  {
   "cell_type": "code",
   "execution_count": 16,
   "metadata": {
    "scrolled": false
   },
   "outputs": [
    {
     "name": "stdout",
     "output_type": "stream",
     "text": [
      "Max: 115987185.0 Min: 0.0 Mean: 1319.2617053636973 Avg: 1319.2617053636973 Std: 121006.46317626638\n"
     ]
    },
    {
     "name": "stderr",
     "output_type": "stream",
     "text": [
      "/Users/jeclark/.local/lib/python3.6/site-packages/matplotlib/axes/_axes.py:6462: UserWarning: The 'normed' kwarg is deprecated, and has been replaced by the 'density' kwarg.\n",
      "  warnings.warn(\"The 'normed' kwarg is deprecated, and has been \"\n"
     ]
    },
    {
     "data": {
      "image/png": "[encoded data removed]",
      "text/plain": [
       "<Figure size 1080x720 with 1 Axes>"
      ]
     },
     "metadata": {},
     "output_type": "display_data"
    }
   ],
   "source": [
    "# Convert Non-Numerics\n",
    "amt_credit_max_overdue = np.nan_to_num(bureau_data['AMT_CREDIT_MAX_OVERDUE'])\n",
    "explore_numeric(amt_credit_max_overdue)"
   ]
  },
  {
   "cell_type": "markdown",
   "metadata": {},
   "source": [
    "#### CNT_CREDIT_PROLONG\n",
    "How many times was the Credit Bureau credit prolonged"
   ]
  },
  {
   "cell_type": "code",
   "execution_count": 17,
   "metadata": {
    "scrolled": false
   },
   "outputs": [
    {
     "name": "stdout",
     "output_type": "stream",
     "text": [
      "Max: 9 Min: 0 Mean: 0.00641040579622332 Avg: 0.00641040579622332 Std: 0.09622387768971509\n"
     ]
    },
    {
     "name": "stderr",
     "output_type": "stream",
     "text": [
      "/Users/jeclark/.local/lib/python3.6/site-packages/matplotlib/axes/_axes.py:6462: UserWarning: The 'normed' kwarg is deprecated, and has been replaced by the 'density' kwarg.\n",
      "  warnings.warn(\"The 'normed' kwarg is deprecated, and has been \"\n"
     ]
    },
    {
     "data": {
      "image/png": "[encoded data removed]",
      "text/plain": [
       "<Figure size 1080x720 with 1 Axes>"
      ]
     },
     "metadata": {},
     "output_type": "display_data"
    }
   ],
   "source": [
    "explore_numeric(bureau_data['CNT_CREDIT_PROLONG'])"
   ]
  },
  {
   "cell_type": "markdown",
   "metadata": {},
   "source": [
    "#### AMT_CREDIT_SUM\n",
    "Current credit amount for the Credit Bureau creditz"
   ]
  },
  {
   "cell_type": "code",
   "execution_count": 18,
   "metadata": {
    "scrolled": false
   },
   "outputs": [
    {
     "name": "stdout",
     "output_type": "stream",
     "text": [
      "Max: 585000000.0 Min: 0.0 Mean: 354991.9032353073 Avg: 354991.9032353073 Std: 1149807.0698196827\n"
     ]
    },
    {
     "name": "stderr",
     "output_type": "stream",
     "text": [
      "/Users/jeclark/.local/lib/python3.6/site-packages/matplotlib/axes/_axes.py:6462: UserWarning: The 'normed' kwarg is deprecated, and has been replaced by the 'density' kwarg.\n",
      "  warnings.warn(\"The 'normed' kwarg is deprecated, and has been \"\n"
     ]
    },
    {
     "data": {
      "image/png": "[encoded data removed]",
      "text/plain": [
       "<Figure size 1080x720 with 1 Axes>"
      ]
     },
     "metadata": {},
     "output_type": "display_data"
    }
   ],
   "source": [
    "amt_credit_sum = bureau_data['AMT_CREDIT_SUM']\n",
    "amt_credit_sum = np.nan_to_num(amt_credit_sum)\n",
    "\n",
    "explore_numeric(amt_credit_sum)"
   ]
  },
  {
   "cell_type": "markdown",
   "metadata": {},
   "source": [
    "#### Preprocessing: \n",
    "This feature is skewed right, in that we have a large number of values near zero, and body of other values distributed across the range.\n",
    "\n",
    "It's common to do a log transformation for fields like this. The result looks normally distributed."
   ]
  },
  {
   "cell_type": "code",
   "execution_count": 19,
   "metadata": {
    "scrolled": false
   },
   "outputs": [
    {
     "name": "stdout",
     "output_type": "stream",
     "text": [
      "Max: 20.187122406905534 Min: 0.0 Mean: 11.408674277369942 Avg: 11.408674277369942 Std: 2.626797401787161\n"
     ]
    },
    {
     "name": "stderr",
     "output_type": "stream",
     "text": [
      "/Users/jeclark/.local/lib/python3.6/site-packages/matplotlib/axes/_axes.py:6462: UserWarning: The 'normed' kwarg is deprecated, and has been replaced by the 'density' kwarg.\n",
      "  warnings.warn(\"The 'normed' kwarg is deprecated, and has been \"\n"
     ]
    },
    {
     "data": {
      "image/png": "[encoded data removed]",
      "text/plain": [
       "<Figure size 1080x720 with 1 Axes>"
      ]
     },
     "metadata": {},
     "output_type": "display_data"
    }
   ],
   "source": [
    "amt_credit_sum = bureau_data['AMT_CREDIT_SUM']\n",
    "amt_credit_sum_transformed = amt_credit_sum.apply(lambda x: np.log(x + 1))\n",
    "amt_credit_sum_transformed_numeric = np.nan_to_num(amt_credit_sum_transformed, copy=True)\n",
    "\n",
    "#visualize the new distribution\n",
    "explore_numeric(amt_credit_sum_transformed_numeric)"
   ]
  },
  {
   "cell_type": "markdown",
   "metadata": {},
   "source": [
    "#### AMT_CREDIT_SUM_DEBT\n",
    "Current debt on Credit Bureau credit"
   ]
  },
  {
   "cell_type": "code",
   "execution_count": 20,
   "metadata": {
    "scrolled": false
   },
   "outputs": [
    {
     "name": "stdout",
     "output_type": "stream",
     "text": [
      "Max: 170100000.0 Min: -4705600.32 Mean: 116505.9952973815 Avg: 116505.9952973815 Std: 626405.636085571\n"
     ]
    },
    {
     "name": "stderr",
     "output_type": "stream",
     "text": [
      "/Users/jeclark/.local/lib/python3.6/site-packages/matplotlib/axes/_axes.py:6462: UserWarning: The 'normed' kwarg is deprecated, and has been replaced by the 'density' kwarg.\n",
      "  warnings.warn(\"The 'normed' kwarg is deprecated, and has been \"\n"
     ]
    },
    {
     "data": {
      "image/png": "[encoded data removed]",
      "text/plain": [
       "<Figure size 1080x720 with 1 Axes>"
      ]
     },
     "metadata": {},
     "output_type": "display_data"
    }
   ],
   "source": [
    "amt_credit_sum_debt = bureau_data['AMT_CREDIT_SUM_DEBT']\n",
    "amt_credit_sum_debt = np.nan_to_num(amt_credit_sum_debt)\n",
    "\n",
    "explore_numeric(amt_credit_sum_debt)"
   ]
  },
  {
   "cell_type": "markdown",
   "metadata": {},
   "source": [
    "#### Preprocessing: \n",
    "This feature is skewed right, in that we have a large number of values near zero, and body of other values distributed across the range.\n",
    "\n",
    "It's common to do a log transformation for fields like this. The result looks normally distributed."
   ]
  },
  {
   "cell_type": "code",
   "execution_count": 21,
   "metadata": {
    "scrolled": false
   },
   "outputs": [
    {
     "name": "stdout",
     "output_type": "stream",
     "text": [
      "Max: 18.951897063244985 Min: -4.605170185988091 Mean: 3.021237079439292 Avg: 3.021237079439292 Std: 5.256694412721233\n"
     ]
    },
    {
     "name": "stderr",
     "output_type": "stream",
     "text": [
      "/Users/jeclark/.local/lib/python3.6/site-packages/matplotlib/axes/_axes.py:6462: UserWarning: The 'normed' kwarg is deprecated, and has been replaced by the 'density' kwarg.\n",
      "  warnings.warn(\"The 'normed' kwarg is deprecated, and has been \"\n"
     ]
    },
    {
     "data": {
      "image/png": "[encoded data removed]",
      "text/plain": [
       "<Figure size 1080x720 with 1 Axes>"
      ]
     },
     "metadata": {},
     "output_type": "display_data"
    }
   ],
   "source": [
    "amt_credit_sum_debt = bureau_data['AMT_CREDIT_SUM_DEBT']\n",
    "amt_credit_sum_debt_transformed = amt_credit_sum_debt.apply(lambda x: np.log(x + 1))\n",
    "amt_credit_sum_debt_transformed_numeric = np.nan_to_num(amt_credit_sum_debt_transformed, copy=True)\n",
    "\n",
    "#visualize the new distribution\n",
    "explore_numeric(amt_credit_sum_debt_transformed_numeric)"
   ]
  },
  {
   "cell_type": "markdown",
   "metadata": {},
   "source": [
    "#### AMT_CREDIT_SUM_LIMIT\n",
    "Current credit limit of credit card reported in Credit Bureau"
   ]
  },
  {
   "cell_type": "code",
   "execution_count": 22,
   "metadata": {
    "scrolled": true
   },
   "outputs": [
    {
     "name": "stdout",
     "output_type": "stream",
     "text": [
      "Max: 4705600.32 Min: -586406.115 Mean: 4081.739265244451 Avg: 4081.739265244451 Std: 36571.67496465721\n"
     ]
    },
    {
     "name": "stderr",
     "output_type": "stream",
     "text": [
      "/Users/jeclark/.local/lib/python3.6/site-packages/matplotlib/axes/_axes.py:6462: UserWarning: The 'normed' kwarg is deprecated, and has been replaced by the 'density' kwarg.\n",
      "  warnings.warn(\"The 'normed' kwarg is deprecated, and has been \"\n"
     ]
    },
    {
     "data": {
      "image/png": "[encoded data removed]",
      "text/plain": [
       "<Figure size 1080x720 with 1 Axes>"
      ]
     },
     "metadata": {},
     "output_type": "display_data"
    }
   ],
   "source": [
    "amt_credit_sum_limit = bureau_data['AMT_CREDIT_SUM_LIMIT']\n",
    "amt_credit_sum_limit = np.nan_to_num(amt_credit_sum_limit)\n",
    "\n",
    "explore_numeric(amt_credit_sum_limit)"
   ]
  },
  {
   "cell_type": "markdown",
   "metadata": {},
   "source": [
    "#### Preprocessing: \n",
    "This feature is skewed right, in that we have a large number of values near zero, and body of other values distributed across the range.\n",
    "\n",
    "It's common to do a log transformation for fields like this. The result looks normally distributed."
   ]
  },
  {
   "cell_type": "code",
   "execution_count": 23,
   "metadata": {
    "scrolled": false
   },
   "outputs": [
    {
     "name": "stdout",
     "output_type": "stream",
     "text": [
      "Max: 15.364264127298659 Min: -0.19845093872383818 Mean: 0.43162418297266103 Avg: 0.43162418297266103 Std: 2.09104664865829\n"
     ]
    },
    {
     "name": "stderr",
     "output_type": "stream",
     "text": [
      "/Users/jeclark/.local/lib/python3.6/site-packages/matplotlib/axes/_axes.py:6462: UserWarning: The 'normed' kwarg is deprecated, and has been replaced by the 'density' kwarg.\n",
      "  warnings.warn(\"The 'normed' kwarg is deprecated, and has been \"\n"
     ]
    },
    {
     "data": {
      "image/png": "[encoded data removed]",
      "text/plain": [
       "<Figure size 1080x720 with 1 Axes>"
      ]
     },
     "metadata": {},
     "output_type": "display_data"
    }
   ],
   "source": [
    "amt_credit_sum_limit = bureau_data['AMT_CREDIT_SUM_LIMIT']\n",
    "amt_credit_sum_limit_transformed = amt_credit_sum_limit.apply(lambda x: np.log(x + 1))\n",
    "amt_credit_sum_limit_transformed_numeric = np.nan_to_num(amt_credit_sum_limit_transformed, copy=True)\n",
    "\n",
    "#visualize the new distribution\n",
    "explore_numeric(amt_credit_sum_limit_transformed_numeric)"
   ]
  },
  {
   "cell_type": "markdown",
   "metadata": {},
   "source": [
    "#### AMT_CREDIT_SUM_OVERDUE\n",
    "Current amount overdue on Credit Bureau credit"
   ]
  },
  {
   "cell_type": "code",
   "execution_count": 24,
   "metadata": {
    "scrolled": false
   },
   "outputs": [
    {
     "name": "stdout",
     "output_type": "stream",
     "text": [
      "Max: 3756681.0 Min: 0.0 Mean: 37.91275774165884 Avg: 37.91275774165884 Std: 5937.648305249403\n"
     ]
    },
    {
     "name": "stderr",
     "output_type": "stream",
     "text": [
      "/Users/jeclark/.local/lib/python3.6/site-packages/matplotlib/axes/_axes.py:6462: UserWarning: The 'normed' kwarg is deprecated, and has been replaced by the 'density' kwarg.\n",
      "  warnings.warn(\"The 'normed' kwarg is deprecated, and has been \"\n"
     ]
    },
    {
     "data": {
      "image/png": "[encoded data removed]",
      "text/plain": [
       "<Figure size 1080x720 with 1 Axes>"
      ]
     },
     "metadata": {},
     "output_type": "display_data"
    }
   ],
   "source": [
    "amt_credit_sum_overdue = bureau_data['AMT_CREDIT_SUM_OVERDUE']\n",
    "amt_credit_sum_overdue = np.nan_to_num(amt_credit_sum_overdue)\n",
    "\n",
    "explore_numeric(amt_credit_sum_overdue)"
   ]
  },
  {
   "cell_type": "markdown",
   "metadata": {},
   "source": [
    "#### Preprocessing: \n",
    "This feature is skewed right, in that we have a large number of values near zero, and body of other values distributed across the range.\n",
    "\n",
    "It's common to do a log transformation for fields like this. The result looks normally distributed."
   ]
  },
  {
   "cell_type": "code",
   "execution_count": 25,
   "metadata": {
    "scrolled": false
   },
   "outputs": [
    {
     "name": "stdout",
     "output_type": "stream",
     "text": [
      "Max: 15.139046678972173 Min: 0.0 Mean: 0.014190591395794587 Avg: 0.014190591395794587 Std: 0.31729931212689577\n"
     ]
    },
    {
     "name": "stderr",
     "output_type": "stream",
     "text": [
      "/Users/jeclark/.local/lib/python3.6/site-packages/matplotlib/axes/_axes.py:6462: UserWarning: The 'normed' kwarg is deprecated, and has been replaced by the 'density' kwarg.\n",
      "  warnings.warn(\"The 'normed' kwarg is deprecated, and has been \"\n"
     ]
    },
    {
     "data": {
      "image/png": "[encoded data removed]",
      "text/plain": [
       "<Figure size 1080x720 with 1 Axes>"
      ]
     },
     "metadata": {},
     "output_type": "display_data"
    }
   ],
   "source": [
    "amt_credit_sum_overdue = bureau_data['AMT_CREDIT_SUM_OVERDUE']\n",
    "amt_credit_sum_overdue_transformed = amt_credit_sum_overdue.apply(lambda x: np.log(x + 1))\n",
    "amt_credit_sum_overdue_transformed_numeric = np.nan_to_num(amt_credit_sum_overdue_transformed, copy=True)\n",
    "\n",
    "#visualize the new distribution\n",
    "explore_numeric(amt_credit_sum_overdue_transformed_numeric)"
   ]
  },
  {
   "cell_type": "markdown",
   "metadata": {},
   "source": [
    "#### DAYS_CREDIT_UPDATE\n",
    "How many days before loan application did last information about the Credit Bureau credit come"
   ]
  },
  {
   "cell_type": "code",
   "execution_count": 26,
   "metadata": {
    "scrolled": true
   },
   "outputs": [
    {
     "name": "stdout",
     "output_type": "stream",
     "text": [
      "Max: 372 Min: -41947 Mean: -593.7483197663986 Avg: -593.7483197663986 Std: 720.7471015455408\n"
     ]
    },
    {
     "name": "stderr",
     "output_type": "stream",
     "text": [
      "/Users/jeclark/.local/lib/python3.6/site-packages/matplotlib/axes/_axes.py:6462: UserWarning: The 'normed' kwarg is deprecated, and has been replaced by the 'density' kwarg.\n",
      "  warnings.warn(\"The 'normed' kwarg is deprecated, and has been \"\n"
     ]
    },
    {
     "data": {
      "image/png": "[encoded data removed]",
      "text/plain": [
       "<Figure size 1080x720 with 1 Axes>"
      ]
     },
     "metadata": {},
     "output_type": "display_data"
    }
   ],
   "source": [
    "days_credit_update = np.nan_to_num(bureau_data['DAYS_CREDIT_UPDATE'])\n",
    "explore_numeric(days_credit_update)"
   ]
  },
  {
   "cell_type": "markdown",
   "metadata": {},
   "source": [
    "#### MONTHS_BALANCE\n",
    "Month of balance relative to application date \n",
    "\n",
    "NOTE: There's a one-to-many relationship between bureau_balance_data and bureau_data, and this dataset is really large.  We'll need to do some feature engineering, like summing up the records per SK_BUREAU_ID or something just to make this managable.  This graph took ~15 minutes to draw... "
   ]
  },
  {
   "cell_type": "code",
   "execution_count": 27,
   "metadata": {
    "scrolled": false
   },
   "outputs": [],
   "source": [
    "#Note: This takes an inordinate amount of time to draw.  It's a large dataset.  Uncomment it if you want.  Nothing special.\n",
    "#explore_numeric(bureau_balance_data['MONTHS_BALANCE'])"
   ]
  },
  {
   "cell_type": "markdown",
   "metadata": {},
   "source": [
    "#### STATUS\n",
    "Status of Credit Bureau loan during the month (active, closed, DPD0-30,ÔøΩ [C means closed, X means status unknown, 0 means no DPD, 1 means maximal did during month between 1-30, 2 means DPD 31-60,ÔøΩ 5 means DPD 120+ or sold or written off ]"
   ]
  },
  {
   "cell_type": "code",
   "execution_count": null,
   "metadata": {
    "scrolled": false
   },
   "outputs": [],
   "source": [
    "explore_non_numeric(bureau_balance_data['STATUS'])"
   ]
  },
  {
   "cell_type": "markdown",
   "metadata": {},
   "source": [
    "### Feature Engineering\n",
    "\n",
    "We have a situation where bureau_data has a one-to-many relationship with application_train, and bureau_balance_data has a one-to-many relationship with bureau_data; however, we need to present the data as a DataFrame to the classifier.\n",
    "\n",
    "To accomplish this, we'll need to do a little feature engineering."
   ]
  },
  {
   "cell_type": "markdown",
   "metadata": {},
   "source": [
    "### One-Hot Encode Non Numeric Features\n",
    "\n",
    "If we one-hot encode the non-numeric features, we can create aggregate counts for the application_data table."
   ]
  },
  {
   "cell_type": "code",
   "execution_count": null,
   "metadata": {},
   "outputs": [],
   "source": [
    "# One-Hot Encode all of our non-numeric features\n",
    "bureau_data = pd.get_dummies(bureau_data, columns=non_numeric_features)\n",
    "\n",
    "print(\"Bureau Data Columns: {0}\".format(bureau_data.shape[1]))"
   ]
  },
  {
   "cell_type": "code",
   "execution_count": null,
   "metadata": {},
   "outputs": [],
   "source": [
    "bureau_balance_data = pd.get_dummies(bureau_balance_data, columns=['STATUS'])\n",
    "\n",
    "print(\"Bureau Balance Data Columns: {0}\".format(bureau_balance_data.shape[1]))"
   ]
  },
  {
   "cell_type": "code",
   "execution_count": null,
   "metadata": {},
   "outputs": [],
   "source": [
    "display(application_train.head())\n",
    "display(bureau_data.head())\n",
    "display(bureau_balance_data.head())"
   ]
  },
  {
   "cell_type": "markdown",
   "metadata": {},
   "source": [
    "### New Features\n",
    "\n",
    "We'll engineer some new features to combine with the application_train data."
   ]
  },
  {
   "cell_type": "code",
   "execution_count": null,
   "metadata": {},
   "outputs": [],
   "source": [
    "new_features = pd.DataFrame()\n",
    "# Reset the index to get it to generate correctly, from:\n",
    "# https://stackoverflow.com/questions/45747589/copying-a-column-from-one-dataframe-to-another-gives-nan-values\n",
    "new_features.reset_index(drop=True)\n",
    "\n",
    "display(application_train.head())\n",
    "\n",
    "new_features = application_train['SK_ID_CURR']\n",
    "display(new_features.head())\n"
   ]
  },
  {
   "cell_type": "markdown",
   "metadata": {},
   "source": [
    "### NUM_BUREAU_REPORTS\n",
    "Number of bureau reports for a given SK_ID_CURR"
   ]
  },
  {
   "cell_type": "code",
   "execution_count": null,
   "metadata": {
    "scrolled": false
   },
   "outputs": [],
   "source": [
    "num_reports = bureau_data.groupby('SK_ID_CURR')['SK_ID_BUREAU'].count()\n",
    "df_num_reports = num_reports.to_frame().reset_index()\n",
    "\n",
    "# Had a hard time getting this column named correctly... from:\n",
    "# https://stackoverflow.com/questions/11346283/renaming-columns-in-pandas\n",
    "df_num_reports.rename(columns={'SK_ID_BUREAU': 'NUM_BUREAU_REPORTS'}, inplace=True)\n",
    "\n",
    "new_features = new_features.merge(df_num_reports, on='SK_ID_CURR')\n",
    "display(new_features.head())\n",
    "\n",
    "#explore_numeric(np.nan_to_num(new_features[\"NUM_BUREAU_REPORTS\"]))"
   ]
  },
  {
   "cell_type": "markdown",
   "metadata": {},
   "source": [
    "#### Preprocessing: \n",
    "This feature is skewed right, in that we have a large number of values near zero, and body of other values distributed across the range.\n",
    "\n",
    "It's common to do a log transformation for fields like this. The result looks normally distributed."
   ]
  },
  {
   "cell_type": "code",
   "execution_count": null,
   "metadata": {
    "scrolled": false
   },
   "outputs": [],
   "source": [
    "num_bureau_reports = new_features['NUM_BUREAU_REPORTS']\n",
    "num_bureau_reports = num_bureau_reports.apply(lambda x: np.log(x + 1))\n",
    "num_bureau_reports = np.nan_to_num(num_bureau_reports)\n",
    "\n",
    "#visualize the new distribution\n",
    "explore_numeric(num_bureau_reports)\n",
    "\n",
    "log_transform_features.append('NUM_BUREAU_REPORTS')"
   ]
  },
  {
   "cell_type": "markdown",
   "metadata": {},
   "source": [
    "### NUM_BUREAU_BALANCES\n",
    "Number of balances recorded for a given SK_ID_CURR"
   ]
  },
  {
   "cell_type": "code",
   "execution_count": null,
   "metadata": {
    "scrolled": false
   },
   "outputs": [],
   "source": [
    "num_balances = bureau_balance_data.groupby('SK_ID_BUREAU')['SK_ID_BUREAU'].count().rename(columns = {'SK_ID_BUREAU': 'NUM_BUREAU_BALANCES'})\n",
    "#display(num_balances.head())\n",
    "\n",
    "df_num_balances = pd.DataFrame(data=num_balances, columns=['NUM_BUREAU_BALANCES'])\n",
    "#display(df_num_balances.head())\n",
    "\n",
    "bureau_data = bureau_data.merge(df_num_balances, on='SK_ID_BUREAU')\n",
    "bureau_data['NUM_BUREAU_BALANCES'] = bureau_data['NUM_BUREAU_BALANCES'].fillna(0)\n",
    "\n",
    "display(bureau_data.head())\n",
    "\n",
    "explore_numeric(np.nan_to_num(bureau_data['NUM_BUREAU_BALANCES']))\n",
    "\n",
    "# Intentionally not included.  This is the first step in creating the SUM_BUREAU_BALANCES feature"
   ]
  },
  {
   "cell_type": "markdown",
   "metadata": {},
   "source": [
    "### SUM_BUREAU_BALANCES\n",
    "Now that we have some data in bureau_data, we'll need to summate it for inclusion in the application_train set"
   ]
  },
  {
   "cell_type": "code",
   "execution_count": null,
   "metadata": {},
   "outputs": [],
   "source": [
    "sum_balances = bureau_data.groupby('SK_ID_CURR')['NUM_BUREAU_BALANCES'].sum()\n",
    "\n",
    "df_sum_balances = sum_balances.to_frame().reset_index()\n",
    "df_sum_balances.rename(columns={'NUM_BUREAU_BALANCES': 'SUM_BUREAU_BALANCES'}, inplace=True)\n",
    "\n",
    "display(df_sum_balances.head())\n",
    "\n",
    "new_features = new_features.merge(df_sum_balances, on='SK_ID_CURR')\n",
    "\n",
    "display(new_features.head())\n",
    "\n",
    "explore_numeric(np.nan_to_num(new_features['SUM_BUREAU_BALANCES']))\n",
    "\n",
    "numeric_features.append('SUM_BUREAU_BALANCES')"
   ]
  },
  {
   "cell_type": "markdown",
   "metadata": {},
   "source": [
    "### MONTHS_BALANCE\n",
    "\n",
    "\n",
    "NOTE: We really need to group the MONTHS_BALANCE value by STATUS in order for it to be meaningful, since a closed account with a 60 month balance is pretty different than a default account with a 60 month balance, or a late, open account with a 2 month balance."
   ]
  },
  {
   "cell_type": "markdown",
   "metadata": {},
   "source": [
    "### SUM_CURRENCY_CODE"
   ]
  },
  {
   "cell_type": "code",
   "execution_count": null,
   "metadata": {},
   "outputs": [],
   "source": [
    "display(bureau_data)\n",
    "\n",
    "num_codes = 4\n",
    "credit_active_codes = []\n",
    "\n",
    "for i in range(0, num_codes): \n",
    "    credit_active_codes.append('CREDIT_CURRENCY_CODE_{0}'.format(i))\n",
    "\n",
    "for code in credit_active_codes: \n",
    "\n",
    "    sum_code = bureau_data.groupby('SK_ID_CURR')[code].sum().rename(columns = {'SK_ID_CURR': code})\n",
    "\n",
    "    new_code = 'SUM_{0}'.format(code)\n",
    "    df_sum_code = pd.DataFrame(data=sum_code, columns=[new_code])\n",
    "\n",
    "    bureau_data = bureau_data.merge(df_sum_code, on='SK_ID_CURR')\n",
    "            \n",
    "    bureau_data[new_code] = bureau_data[new_code].fillna(0)\n",
    "\n",
    "    new_features[new_code] = bureau_data[new_code]\n",
    "\n",
    "    numeric_features.append(new_code)     \n",
    "    \n",
    "display(new_features.head())"
   ]
  },
  {
   "cell_type": "code",
   "execution_count": null,
   "metadata": {},
   "outputs": [],
   "source": [
    "display(new_features.head(n=100))"
   ]
  },
  {
   "cell_type": "markdown",
   "metadata": {},
   "source": [
    "### SUM_CREDIT_ACTIVE_CODE"
   ]
  },
  {
   "cell_type": "code",
   "execution_count": null,
   "metadata": {},
   "outputs": [],
   "source": [
    "num_codes = 4\n",
    "credit_active_codes = []\n",
    "\n",
    "for i in range(0, num_codes): \n",
    "    credit_active_codes.append('CREDIT_ACTIVE_CODE_{0}'.format(i))\n",
    "\n",
    "for code in credit_active_codes: \n",
    "\n",
    "    sum_code = bureau_data.groupby('SK_ID_CURR')[code].sum().rename(columns = {'SK_ID_CURR': code})\n",
    "\n",
    "    new_code = 'SUM_{0}'.format(code)\n",
    "    df_sum_code = pd.DataFrame(data=sum_code, columns=[new_code])\n",
    "\n",
    "    bureau_data = bureau_data.merge(df_sum_code, on='SK_ID_CURR')\n",
    "            \n",
    "    bureau_data[new_code] = bureau_data[new_code].fillna(0)\n",
    "\n",
    "    new_features[new_code] = bureau_data[new_code]\n",
    "\n",
    "    numeric_features.append(new_code)     \n",
    "    \n",
    "display(new_features.head())"
   ]
  },
  {
   "cell_type": "markdown",
   "metadata": {},
   "source": [
    "### SUM_CREDIT_TYPE_CODE\n",
    "Number of balances with a status of 0 recorded for a given SK_ID_BUREAU"
   ]
  },
  {
   "cell_type": "code",
   "execution_count": null,
   "metadata": {},
   "outputs": [],
   "source": [
    "num_codes = 15\n",
    "credit_type_codes = []\n",
    "\n",
    "for i in range(0, num_codes): \n",
    "    credit_type_codes.append('CREDIT_TYPE_CODE_{0}'.format(i))\n",
    "\n",
    "for code in credit_type_codes: \n",
    "\n",
    "    sum_code = bureau_data.groupby('SK_ID_CURR')[code].sum().rename(columns = {'SK_ID_CURR': code})\n",
    "\n",
    "    new_code = 'SUM_{0}'.format(code)\n",
    "    df_sum_code = pd.DataFrame(data=sum_code, columns=[new_code])\n",
    "\n",
    "    bureau_data = bureau_data.merge(df_sum_code, on='SK_ID_CURR')\n",
    "            \n",
    "    bureau_data[new_code] = bureau_data[new_code].fillna(0)\n",
    "\n",
    "    new_features[new_code] = bureau_data[new_code]\n",
    "    \n",
    "    numeric_features.append(new_code)                "
   ]
  },
  {
   "cell_type": "code",
   "execution_count": null,
   "metadata": {},
   "outputs": [],
   "source": [
    "display(new_features.head())"
   ]
  },
  {
   "cell_type": "markdown",
   "metadata": {},
   "source": [
    "### SUM_STATUS_0\n",
    "Number of balances with a status of 0 recorded for a given SK_ID_BUREAU"
   ]
  },
  {
   "cell_type": "code",
   "execution_count": null,
   "metadata": {},
   "outputs": [],
   "source": [
    "num_balances = bureau_balance_data.groupby('SK_ID_BUREAU')['STATUS_0'].sum().rename(columns = {'SK_ID_BUREAU': 'SUM_STATUS_0'})\n",
    "#display(num_balances.head())\n",
    "\n",
    "df_num_balances = pd.DataFrame(data=num_balances, columns=['SUM_STATUS_0'])\n",
    "#display(df_num_balances.head())\n",
    "\n",
    "bureau_data = bureau_data.merge(df_num_balances, on='SK_ID_BUREAU')\n",
    "bureau_data['SUM_STATUS_0'] = bureau_data['SUM_STATUS_0'].fillna(0)\n",
    "\n",
    "new_features['SUM_STATUS_0'] = bureau_data['SUM_STATUS_0']\n",
    "\n",
    "numeric_features.append(\"SUM_STATUS_0\")\n",
    "\n",
    "explore_numeric(new_features['SUM_STATUS_0'])"
   ]
  },
  {
   "cell_type": "markdown",
   "metadata": {},
   "source": [
    "### SUM_STATUS_1\n",
    "Number of balances with a status of 0 recorded for a given SK_ID_BUREAU"
   ]
  },
  {
   "cell_type": "code",
   "execution_count": null,
   "metadata": {},
   "outputs": [],
   "source": [
    "num_balances = bureau_balance_data.groupby('SK_ID_BUREAU')['STATUS_1'].sum().rename(columns = {'SK_ID_BUREAU': 'SUM_STATUS_1'})\n",
    "#display(num_balances.head())\n",
    "\n",
    "df_num_balances = pd.DataFrame(data=num_balances, columns=['SUM_STATUS_1'])\n",
    "#display(df_num_balances.head())\n",
    "\n",
    "bureau_data = bureau_data.merge(df_num_balances, on='SK_ID_BUREAU')\n",
    "bureau_data['SUM_STATUS_1'] = bureau_data['SUM_STATUS_1'].fillna(0)\n",
    "\n",
    "new_features['SUM_STATUS_1'] = bureau_data['SUM_STATUS_1']\n",
    "\n",
    "explore_numeric(new_features['SUM_STATUS_1'])\n",
    "\n",
    "numeric_features.append(\"SUM_STATUS_1\")"
   ]
  },
  {
   "cell_type": "markdown",
   "metadata": {},
   "source": [
    "\n",
    "### SUM_STATUS_2\n",
    "Number of balances with a status of 2 recorded for a given SK_ID_BUREAU"
   ]
  },
  {
   "cell_type": "code",
   "execution_count": null,
   "metadata": {},
   "outputs": [],
   "source": [
    "num_balances = bureau_balance_data.groupby('SK_ID_BUREAU')['STATUS_2'].sum().rename(columns = {'SK_ID_BUREAU': 'SUM_STATUS_2'})\n",
    "#display(num_balances.head())\n",
    "\n",
    "df_num_balances = pd.DataFrame(data=num_balances, columns=['SUM_STATUS_2'])\n",
    "#display(df_num_balances.head())\n",
    "\n",
    "bureau_data = bureau_data.merge(df_num_balances, on='SK_ID_BUREAU')\n",
    "bureau_data['SUM_STATUS_2'] = bureau_data['SUM_STATUS_2'].fillna(0)\n",
    "\n",
    "new_features['SUM_STATUS_2'] = bureau_data['SUM_STATUS_2']\n",
    "\n",
    "numeric_features.append(\"SUM_STATUS_2\")"
   ]
  },
  {
   "cell_type": "markdown",
   "metadata": {},
   "source": [
    "### SUM_STATUS_3\n",
    "Number of balances with a status of 3 recorded for a given SK_ID_BUREAU"
   ]
  },
  {
   "cell_type": "code",
   "execution_count": null,
   "metadata": {},
   "outputs": [],
   "source": [
    "num_balances = bureau_balance_data.groupby('SK_ID_BUREAU')['STATUS_3'].sum().rename(columns = {'SK_ID_BUREAU': 'SUM_STATUS_3'})\n",
    "#display(num_balances.head())\n",
    "\n",
    "df_num_balances = pd.DataFrame(data=num_balances, columns=['SUM_STATUS_3'])\n",
    "#display(df_num_balances.head())\n",
    "\n",
    "bureau_data = bureau_data.merge(df_num_balances, on='SK_ID_BUREAU')\n",
    "bureau_data['SUM_STATUS_3'] = bureau_data['SUM_STATUS_3'].fillna(0)\n",
    "\n",
    "new_features['SUM_STATUS_3'] = bureau_data['SUM_STATUS_3']\n",
    "\n",
    "numeric_features.append(\"SUM_STATUS_3\")"
   ]
  },
  {
   "cell_type": "markdown",
   "metadata": {},
   "source": [
    "### SUM_STATUS_4\n",
    "Number of balances with a status of 4 recorded for a given SK_ID_BUREAU"
   ]
  },
  {
   "cell_type": "code",
   "execution_count": null,
   "metadata": {},
   "outputs": [],
   "source": [
    "num_balances = bureau_balance_data.groupby('SK_ID_BUREAU')['STATUS_4'].sum().rename(columns = {'SK_ID_BUREAU': 'SUM_STATUS_4'})\n",
    "#display(num_balances.head())\n",
    "\n",
    "df_num_balances = pd.DataFrame(data=num_balances, columns=['SUM_STATUS_4'])\n",
    "#display(df_num_balances.head())\n",
    "\n",
    "bureau_data = bureau_data.merge(df_num_balances, on='SK_ID_BUREAU')\n",
    "bureau_data['SUM_STATUS_4'] = bureau_data['SUM_STATUS_4'].fillna(0)\n",
    "\n",
    "new_features['SUM_STATUS_4'] = bureau_data['SUM_STATUS_4']\n",
    "\n",
    "numeric_features.append(\"SUM_STATUS_5\")"
   ]
  },
  {
   "cell_type": "markdown",
   "metadata": {},
   "source": [
    "### SUM_STATUS_5\n",
    "Number of balances with a status of 5 recorded for a given SK_ID_BUREAU"
   ]
  },
  {
   "cell_type": "code",
   "execution_count": null,
   "metadata": {
    "scrolled": true
   },
   "outputs": [],
   "source": [
    "num_balances = bureau_balance_data.groupby('SK_ID_BUREAU')['STATUS_5'].sum().rename(columns = {'SK_ID_BUREAU': 'SUM_STATUS_5'})\n",
    "#display(num_balances.head())\n",
    "\n",
    "df_num_balances = pd.DataFrame(data=num_balances, columns=['SUM_STATUS_5'])\n",
    "#display(df_num_balances.head())\n",
    "\n",
    "bureau_data = bureau_data.merge(df_num_balances, on='SK_ID_BUREAU')\n",
    "bureau_data['SUM_STATUS_5'] = bureau_data['SUM_STATUS_5'].fillna(0)\n",
    "\n",
    "new_features['SUM_STATUS_5'] = bureau_data['SUM_STATUS_5']\n",
    "\n",
    "numeric_features.append(\"SUM_STATUS_5\")"
   ]
  },
  {
   "cell_type": "markdown",
   "metadata": {},
   "source": [
    "### SUM_STATUS_C\n",
    "Number of balances with a status of C recorded for a given SK_ID_BUREAU"
   ]
  },
  {
   "cell_type": "code",
   "execution_count": null,
   "metadata": {},
   "outputs": [],
   "source": [
    "num_balances = bureau_balance_data.groupby('SK_ID_BUREAU')['STATUS_C'].sum().rename(columns = {'SK_ID_BUREAU': 'SUM_STATUS_C'})\n",
    "#display(num_balances.head())\n",
    "\n",
    "df_num_balances = pd.DataFrame(data=num_balances, columns=['SUM_STATUS_C'])\n",
    "#display(df_num_balances.head())\n",
    "\n",
    "bureau_data = bureau_data.merge(df_num_balances, on='SK_ID_BUREAU')\n",
    "bureau_data['SUM_STATUS_C'] = bureau_data['SUM_STATUS_C'].fillna(0)\n",
    "\n",
    "new_features['SUM_STATUS_C'] = bureau_data['SUM_STATUS_C']\n",
    "\n",
    "numeric_features.append(\"SUM_STATUS_C\")"
   ]
  },
  {
   "cell_type": "markdown",
   "metadata": {},
   "source": [
    "### SUM_STATUS_X\n",
    "Number of balances with a status of X recorded for a given SK_ID_BUREAU"
   ]
  },
  {
   "cell_type": "code",
   "execution_count": null,
   "metadata": {
    "scrolled": true
   },
   "outputs": [],
   "source": [
    "num_balances = bureau_balance_data.groupby('SK_ID_BUREAU')['STATUS_X'].sum().rename(columns = {'SK_ID_BUREAU': 'SUM_STATUS_X'})\n",
    "#display(num_balances.head())\n",
    "\n",
    "df_num_balances = pd.DataFrame(data=num_balances, columns=['SUM_STATUS_X'])\n",
    "#display(df_num_balances.head())\n",
    "\n",
    "bureau_data = bureau_data.merge(df_num_balances, on='SK_ID_BUREAU')\n",
    "bureau_data['SUM_STATUS_X'] = bureau_data['SUM_STATUS_X'].fillna(0)\n",
    "\n",
    "new_features['SUM_STATUS_X'] = bureau_data['SUM_STATUS_X']\n",
    "\n",
    "numeric_features.append(\"SUM_STATUS_X\")"
   ]
  },
  {
   "cell_type": "markdown",
   "metadata": {},
   "source": [
    "### MED_DAYS_CREDIT\n",
    "\n",
    "The median number of days before current application that client apply for Credit Bureau credit, across all available credit bureau reports."
   ]
  },
  {
   "cell_type": "code",
   "execution_count": null,
   "metadata": {},
   "outputs": [],
   "source": [
    "days_credit = bureau_data.groupby('SK_ID_CURR')['DAYS_CREDIT'].median()\n",
    "df_days_credit = days_credit.to_frame()\n",
    "\n",
    "new_features = new_features.merge(df_days_credit, on='SK_ID_CURR')\n",
    "\n",
    "display(new_features.head())\n",
    "\n",
    "display(type(numeric_features))\n",
    "display(numeric_features)"
   ]
  },
  {
   "cell_type": "code",
   "execution_count": null,
   "metadata": {},
   "outputs": [],
   "source": []
  },
  {
   "cell_type": "markdown",
   "metadata": {},
   "source": [
    "### SUM_CREDIT_DAYS_OVERDUE\n",
    "\n",
    "Total days of overdue credit across all bureau reports."
   ]
  },
  {
   "cell_type": "code",
   "execution_count": null,
   "metadata": {
    "scrolled": true
   },
   "outputs": [],
   "source": [
    "credit_day_overdue = bureau_data.groupby('SK_ID_CURR')['CREDIT_DAY_OVERDUE'].sum()\n",
    "\n",
    "new_features[\"SUM_CREDIT_DAY_OVERDUE\"] = credit_day_overdue\n",
    "display(new_features.head())\n",
    "\n",
    "numeric_features.append(\"SUM_CREDIT_DAYS_OVERDUE\")"
   ]
  },
  {
   "attachments": {},
   "cell_type": "markdown",
   "metadata": {},
   "source": [
    "### SUM_CREDIT_DAYS_ENDDATE\n",
    "Remaining duration of CB credit (in days) at the time of application in Home Credit"
   ]
  },
  {
   "cell_type": "code",
   "execution_count": null,
   "metadata": {
    "scrolled": false
   },
   "outputs": [],
   "source": [
    "credit_days_enddate = bureau_data.groupby('SK_ID_CURR')['DAYS_CREDIT_ENDDATE'].sum()\n",
    "\n",
    "new_features[\"SUM_DAYS_CREDIT_ENDDATE\"] = credit_days_enddate\n",
    "display(new_features.head())\n",
    "\n",
    "numeric_features.append('SUM_DAYS_CREDIT_ENDDATE')"
   ]
  },
  {
   "attachments": {},
   "cell_type": "markdown",
   "metadata": {},
   "source": [
    "### SUM_DAYS_ENDDATE_FACT\n",
    "Days since CB credit ended at the time of application in Home Credit (only for closed credit)"
   ]
  },
  {
   "cell_type": "code",
   "execution_count": null,
   "metadata": {
    "scrolled": true
   },
   "outputs": [],
   "source": [
    "days_enddate_fact = bureau_data.groupby('SK_ID_CURR')['DAYS_ENDDATE_FACT'].sum()\n",
    "\n",
    "new_features[\"SUM_DAYS_ENDDATE_FACT\"] = days_enddate_fact\n",
    "display(new_features.head())\n",
    "\n",
    "numeric_features.append('SUM_DAYS_ENDDATE_FACT')"
   ]
  },
  {
   "attachments": {},
   "cell_type": "markdown",
   "metadata": {},
   "source": [
    "### SUM_AMT_CREDIT_MAX_OVERDUE\n",
    "Maximal amount overdue on the Credit Bureau credit so far (at application date of loan in our sample)"
   ]
  },
  {
   "cell_type": "code",
   "execution_count": null,
   "metadata": {
    "scrolled": false
   },
   "outputs": [],
   "source": [
    "credit_max_overdue = bureau_data.groupby('SK_ID_CURR')['AMT_CREDIT_MAX_OVERDUE'].sum()\n",
    "\n",
    "explore_numeric(np.nan_to_num(credit_max_overdue))\n",
    "\n",
    "new_features[\"SUM_AMT_CREDIT_MAX_OVERDUE\"] = credit_max_overdue\n",
    "display(new_features.head())\n",
    "\n",
    "numeric_features.append('SUM_AMT_CREDIT_MAX_OVERDUE')"
   ]
  },
  {
   "attachments": {},
   "cell_type": "markdown",
   "metadata": {},
   "source": [
    "### SUM_CNT_CREDIT_PROLONG\n",
    "How many times was the Credit Bureau credit prolonged"
   ]
  },
  {
   "cell_type": "code",
   "execution_count": null,
   "metadata": {
    "scrolled": false
   },
   "outputs": [],
   "source": [
    "cnt_credit_prolong = bureau_data.groupby('SK_ID_CURR')['CNT_CREDIT_PROLONG'].sum()\n",
    "\n",
    "new_features[\"SUM_CNT_CREDIT_PROLONG\"] = cnt_credit_prolong\n",
    "display(new_features.head())\n",
    "\n",
    "numeric_features.append('SUM_CND_CREDIT_PROLONG')"
   ]
  },
  {
   "attachments": {},
   "cell_type": "markdown",
   "metadata": {},
   "source": [
    "### SUM_AMT_CREDIT_SUM\n",
    "Current credit amount for the Credit Bureau credit"
   ]
  },
  {
   "cell_type": "code",
   "execution_count": null,
   "metadata": {
    "scrolled": false
   },
   "outputs": [],
   "source": [
    "'''\n",
    "NOTE: Something is wrong with this data.  It's not obvious what's happening... \n",
    "\n",
    "amt_credit_sum = bureau_data.groupby('SK_ID_CURR')['AMT_CREDIT_SUM'].sum()\n",
    "\n",
    "new_features[\"SUM_AMT_CREDIT_SUM\"] = amt_credit_sum\n",
    "display(new_features.head())\n",
    "'''"
   ]
  },
  {
   "cell_type": "markdown",
   "metadata": {},
   "source": [
    "#### Preprocessing: \n",
    "This feature is skewed right, in that we have a large number of values near zero, and body of other values distributed across the range.\n",
    "\n",
    "It's common to do a log transformation for fields like this. The result looks normally distributed."
   ]
  },
  {
   "cell_type": "code",
   "execution_count": null,
   "metadata": {
    "scrolled": false
   },
   "outputs": [],
   "source": [
    "'''\n",
    "amt_credit_sum = new_features['SUM_AMT_CREDIT_SUM']\n",
    "amt_credit_sum_transformed = amt_credit_sum.apply(lambda x: np.log(x + 1))\n",
    "amt_credit_sum_transformed_numeric = np.nan_to_num(amt_credit_sum_transformed, copy=True)\n",
    "\n",
    "#visualize the new distribution\n",
    "explore_numeric(amt_credit_sum_transformed_numeric)\n",
    "\n",
    "log_transform_features.append('SUM_AMT_CREDIT_SUM')\n",
    "'''"
   ]
  },
  {
   "attachments": {},
   "cell_type": "markdown",
   "metadata": {},
   "source": [
    "### SUM_AMT_CREDIT_SUM_DEBT\n",
    "Current debt on Credit Bureau credit"
   ]
  },
  {
   "cell_type": "code",
   "execution_count": null,
   "metadata": {
    "scrolled": false
   },
   "outputs": [],
   "source": [
    "amt_credit_sum_debt = bureau_data.groupby('SK_ID_CURR')['AMT_CREDIT_SUM_DEBT'].sum()\n",
    "\n",
    "new_features[\"SUM_AMT_CREDIT_SUM_DEBT\"] = amt_credit_sum_debt\n",
    "display(new_features.head())"
   ]
  },
  {
   "attachments": {},
   "cell_type": "markdown",
   "metadata": {},
   "source": [
    "### SUM_AMT_CREDIT_SUM_LIMIT\n",
    "Current credit limit of credit card reported in Credit Bureau"
   ]
  },
  {
   "cell_type": "code",
   "execution_count": null,
   "metadata": {
    "scrolled": false
   },
   "outputs": [],
   "source": [
    "amt_credit_sum_limit = bureau_data.groupby('SK_ID_CURR')['AMT_CREDIT_SUM_LIMIT'].sum()\n",
    "\n",
    "new_features[\"SUM_AMT_CREDIT_SUM_LIMIT\"] = amt_credit_sum_limit\n",
    "display(new_features.head())"
   ]
  },
  {
   "attachments": {},
   "cell_type": "markdown",
   "metadata": {},
   "source": [
    "### SUM_DAYS_CREDIT_UPDATE\n",
    "How many days before loan application did last information about the Credit Bureau credit"
   ]
  },
  {
   "cell_type": "code",
   "execution_count": null,
   "metadata": {
    "scrolled": true
   },
   "outputs": [],
   "source": [
    "days_credit_update = bureau_data.groupby('SK_ID_CURR')['DAYS_CREDIT_UPDATE'].sum()\n",
    "new_features[\"SUM_DAYS_CREDIT_UPDATE\"] = days_credit_update\n",
    "display(new_features.head())"
   ]
  },
  {
   "cell_type": "markdown",
   "metadata": {},
   "source": [
    "#### Merge New Features to Bureau Data"
   ]
  },
  {
   "cell_type": "code",
   "execution_count": null,
   "metadata": {},
   "outputs": [],
   "source": [
    "display(new_features.head()) \n",
    "\n",
    "application_train_merged = application_train.merge(new_features, on='SK_ID_CURR')\n",
    "\n",
    "display(application_train_merged.head())"
   ]
  },
  {
   "cell_type": "markdown",
   "metadata": {},
   "source": [
    "### Export"
   ]
  },
  {
   "cell_type": "code",
   "execution_count": null,
   "metadata": {},
   "outputs": [],
   "source": [
    "application_train.to_csv('data/tmp/application_train_bureau_data_merged.csv')\n",
    "\n",
    "non_numeric_features = pd.DataFrame({'features':non_numeric_features})\n",
    "numeric_features = pd.DataFrame({'features':numeric_features})\n",
    "string_to_bool_features = pd.DataFrame({'features':string_to_bool_features})\n",
    "log_transform_features = pd.DataFrame({'features':log_transform_features})\n",
    "\n",
    "non_numeric_features.to_csv('data/tmp/bureau_non_numeric_features.csv')\n",
    "numeric_features.to_csv('data/tmp/bureau_numeric_features.csv')\n",
    "string_to_bool_features.to_csv('data/tmp/bureau_string_to_bool.csv')\n",
    "log_transform_features.to_csv('data/tmp/bureau_log_transform.csv')"
   ]
  },
  {
   "cell_type": "code",
   "execution_count": null,
   "metadata": {},
   "outputs": [],
   "source": [
    "display(np.max(application_train_merged['SUM_AMT_CREDIT_MAX_OVERDUE']))"
   ]
  },
  {
   "cell_type": "code",
   "execution_count": null,
   "metadata": {},
   "outputs": [],
   "source": []
  }
 ],
 "metadata": {
  "kernelspec": {
   "display_name": "Python 3",
   "language": "python",
   "name": "python3"
  },
  "language_info": {
   "codemirror_mode": {
    "name": "ipython",
    "version": 3
   },
   "file_extension": ".py",
   "mimetype": "text/x-python",
   "name": "python",
   "nbconvert_exporter": "python",
   "pygments_lexer": "ipython3",
   "version": "3.6.5"
  }
 },
 "nbformat": 4,
 "nbformat_minor": 2
}
