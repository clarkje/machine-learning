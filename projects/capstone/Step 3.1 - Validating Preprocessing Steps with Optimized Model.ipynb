{
 "cells": [
  {
   "cell_type": "markdown",
   "metadata": {},
   "source": [
    "### Modeling Application Data\n",
    "\n",
    "Step 3.1: Using our optimized model, take a look at each of our preprocessing steps independently to identify any impacts on the prediction score.\n",
    "\n",
    "### Imports"
   ]
  },
  {
   "cell_type": "code",
   "execution_count": 10,
   "metadata": {},
   "outputs": [],
   "source": [
    "import pandas as pd\n",
    "import numpy as np\n",
    "import matplotlib.pyplot as plt\n",
    "import seaborn as sns\n",
    "import visuals as vs\n",
    "\n",
    "from IPython.display import display # Allows the use of display() for DataFrames\n",
    "from sklearn.model_selection import KFold, cross_val_score\n",
    "from sklearn.tree import DecisionTreeClassifier\n",
    "from sklearn.ensemble import AdaBoostClassifier\n",
    "from sklearn.model_selection import train_test_split  # use model_selection to suppress deprecation warning\n",
    "\n",
    "from sklearn.metrics import roc_auc_score, roc_curve, auc\n",
    "\n",
    "# Pretty display for notebooks\n",
    "%matplotlib inline\n",
    "\n",
    "# Show all of the data in a dataframe\n",
    "pd.set_option('display.max_columns', None)"
   ]
  },
  {
   "cell_type": "code",
   "execution_count": null,
   "metadata": {},
   "outputs": [],
   "source": [
    "def get_prediction_performance(dataFile): \n",
    "    \n",
    "    # Read the datafile\n",
    "    train = pd.read_csv(dataFile, index_col=0)\n",
    "\n",
    "    # Drop y and the shared key for application data\n",
    "    target = application_train['TARGET']\n",
    "    train_no_target = train.drop('TARGET', axis = 1)\n",
    "    train_noID = application_train_no_target.drop('SK_ID_CURR', axis=1)\n",
    "\n",
    "    # Make a test and train set\n",
    "    X_train, X_test, y_train, y_test = train_test_split(train_noID, target, test_size=0.2, random_state=42)\n",
    "\n",
    "    dtc = DecisionTreeClassifier(criterion='entropy', max_depth=1, max_features='auto', random_state=42)\n",
    "    clf = AdaBoostClassifier(base_estimator=dtc, algorithm='SAMME.R', n_estimators = 500, random_state=42)\n",
    "    clf.fit(X_train, y_train) \n",
    "    \n",
    "    predictions = clf.predict(X_test)\n",
    "    score = roc_auc_score(y_test, predictions)\n",
    "    \n",
    "    return score    "
   ]
  },
  {
   "cell_type": "markdown",
   "metadata": {},
   "source": [
    "# Minimal Preprocessing:  \n",
    "\n",
    "- Data has outliers\n",
    "- No scaling has been performed\n",
    "- No Log Transformations on Data"
   ]
  },
  {
   "cell_type": "code",
   "execution_count": 28,
   "metadata": {},
   "outputs": [
    {
     "name": "stdout",
     "output_type": "stream",
     "text": [
      "Prediction Score (ROC AUC): 0.5112736305620937\n"
     ]
    }
   ],
   "source": [
    "score = get_prediction_performance('data/tmp/application_train_preprocessed_outliers_no_scaling_no_log.csv')\n",
    "print(\"Prediction Score (ROC AUC): {0}\".format(score))"
   ]
  },
  {
   "cell_type": "markdown",
   "metadata": {},
   "source": [
    "# Imputation (with Mean):  \n",
    "\n",
    "- Data has outliers\n",
    "- NaNs in numeric fields are replaced with imputed mean values instead of 0\n",
    "- No scaling has been performed\n",
    "- No Log Transformations on Data"
   ]
  },
  {
   "cell_type": "code",
   "execution_count": 51,
   "metadata": {},
   "outputs": [
    {
     "name": "stdout",
     "output_type": "stream",
     "text": [
      "Prediction Score (ROC AUC): 0.511243328911791\n"
     ]
    }
   ],
   "source": [
    "score = get_prediction_performance('data/tmp/application_train_preprocessed_imputation_no_scaling_with_outliers_no_log.csv')\n",
    "print(\"Prediction Score (ROC AUC): {0}\".format(score))"
   ]
  },
  {
   "cell_type": "markdown",
   "metadata": {},
   "source": [
    "# Imputation with Median:  \n",
    "\n",
    "- Data has outliers\n",
    "- NaNs in numeric fields are replaced with imputed mean values instead of 0\n",
    "- No scaling has been performed\n",
    "- No Log Transformations on Data\n",
    "- Imputer(strategy=\"median\")"
   ]
  },
  {
   "cell_type": "code",
   "execution_count": 63,
   "metadata": {
    "scrolled": true
   },
   "outputs": [
    {
     "name": "stdout",
     "output_type": "stream",
     "text": [
      "Prediction Score (ROC AUC): 0.5109440157056088\n"
     ]
    }
   ],
   "source": [
    "score = get_prediction_performance('data/tmp/application_train_preprocessed_imputation_median_no_scaling_with_outliers_no_log.csv')\n",
    "print(\"Prediction Score (ROC AUC): {0}\".format(score))"
   ]
  },
  {
   "cell_type": "markdown",
   "metadata": {},
   "source": [
    "# Imputation with Most Frequent:  \n",
    "\n",
    "- Data has outliers\n",
    "- NaNs in numeric fields are replaced with imputed mean values instead of 0\n",
    "- No scaling has been performed\n",
    "- No Log Transformations on Data\n",
    "- Imputer(strategy=\"most_frequent\")"
   ]
  },
  {
   "cell_type": "code",
   "execution_count": 64,
   "metadata": {},
   "outputs": [
    {
     "name": "stdout",
     "output_type": "stream",
     "text": [
      "Prediction Score (ROC AUC): 0.5119669402528273\n"
     ]
    }
   ],
   "source": [
    "score = get_prediction_performance('data/tmp/application_train_preprocessed_imputation_most_frequentno_scaling_with_outliers_no_log.csv')\n",
    "print(\"Prediction Score (ROC AUC): {0}\".format(score))"
   ]
  },
  {
   "cell_type": "markdown",
   "metadata": {},
   "source": [
    "# Outliers Removed\n",
    "\n",
    "- Outliers are removed using Tukey's method (1.5x IQR)\n",
    "- No scaling has been performed\n",
    "- No Log Transformations on Data"
   ]
  },
  {
   "cell_type": "code",
   "execution_count": 52,
   "metadata": {},
   "outputs": [
    {
     "name": "stdout",
     "output_type": "stream",
     "text": [
      "Prediction Score (ROC AUC): 0.5107293352481052\n"
     ]
    }
   ],
   "source": [
    "score = get_prediction_performance('data/tmp/application_train_preprocessed_no_scaling_outliers_replaced_no_log.csv')\n",
    "print(\"Prediction Score (ROC AUC): {0}\".format(score))"
   ]
  },
  {
   "cell_type": "markdown",
   "metadata": {},
   "source": [
    "# Outliers Removed with Imputation (Mean)\n",
    "\n",
    "- Outliers are removed using Tukey's method (1.5x IQR)\n",
    "- No scaling has been performed\n",
    "- No Log Transformations on Data"
   ]
  },
  {
   "cell_type": "code",
   "execution_count": 53,
   "metadata": {},
   "outputs": [
    {
     "name": "stdout",
     "output_type": "stream",
     "text": [
      "Prediction Score (ROC AUC): 0.511897495844608\n"
     ]
    }
   ],
   "source": [
    "score = get_prediction_performance('data/tmp/application_train_preprocessed_imputation_no_scaling_outliers_replaced_no_log.csv')\n",
    "print(\"Prediction Score (ROC AUC): {0}\".format(score))"
   ]
  },
  {
   "cell_type": "markdown",
   "metadata": {},
   "source": [
    "# Robust Scaler with Outliers\n",
    "\n",
    "- Outliers are included\n",
    "- Scaled using RobustScaler\n",
    "- No Log Transformations on Data"
   ]
  },
  {
   "cell_type": "code",
   "execution_count": 54,
   "metadata": {
    "scrolled": true
   },
   "outputs": [
    {
     "name": "stdout",
     "output_type": "stream",
     "text": [
      "Prediction Score (ROC AUC): 0.5115539771003558\n"
     ]
    }
   ],
   "source": [
    "score = get_prediction_performance('data/tmp/application_train_preprocessed_robust_scaler_with_outliers_no_log.csv')\n",
    "print(\"Prediction Score (ROC AUC): {0}\".format(score))"
   ]
  },
  {
   "cell_type": "markdown",
   "metadata": {},
   "source": [
    "# Standard Scaler with Outliers\n",
    "\n",
    "- Outliers are included\n",
    "- Scaled using StandardScaler\n",
    "- No Log Transformations on Data"
   ]
  },
  {
   "cell_type": "code",
   "execution_count": 55,
   "metadata": {},
   "outputs": [
    {
     "name": "stdout",
     "output_type": "stream",
     "text": [
      "Prediction Score (ROC AUC): 0.5109970623512925\n"
     ]
    }
   ],
   "source": [
    "score = get_prediction_performance('data/tmp/application_train_preprocessed_standard_scaler_with_outliers_no_log.csv')\n",
    "print(\"Prediction Score (ROC AUC): {0}\".format(score))"
   ]
  },
  {
   "cell_type": "markdown",
   "metadata": {},
   "source": [
    "# MinMax Scaler with Outliers\n",
    "\n",
    "- Outliers are included\n",
    "- Scaled using MinMaxScaler\n",
    "- No Log Transformations on Data"
   ]
  },
  {
   "cell_type": "code",
   "execution_count": 57,
   "metadata": {},
   "outputs": [
    {
     "name": "stdout",
     "output_type": "stream",
     "text": [
      "Prediction Score (ROC AUC): 0.5102847859926386\n"
     ]
    }
   ],
   "source": [
    "score = get_prediction_performance('data/tmp/application_train_preprocessed_minmax_scaler_with_outliers_no_log.csv')\n",
    "print(\"Prediction Score (ROC AUC): {0}\".format(score))"
   ]
  },
  {
   "cell_type": "markdown",
   "metadata": {},
   "source": [
    "# Robust Scaler with Outliers Replaced (Tukey's Method, All Numeric Fields)\n",
    "\n",
    "- Outliers are removed\n",
    "- Scaled using RobustScaler\n",
    "- No Log Transformations on Data"
   ]
  },
  {
   "cell_type": "code",
   "execution_count": 38,
   "metadata": {},
   "outputs": [
    {
     "name": "stdout",
     "output_type": "stream",
     "text": [
      "Prediction Score (ROC AUC): 0.5116032454185788\n"
     ]
    }
   ],
   "source": [
    "score = get_prediction_performance('data/tmp/application_train_preprocessed_robust_scaler_outliers_removed_no_log.csv')\n",
    "print(\"Prediction Score (ROC AUC): {0}\".format(score))"
   ]
  },
  {
   "cell_type": "markdown",
   "metadata": {},
   "source": [
    "# Standard Scaler with Outliers Replaced (Tukey's Method, All Numeric Fields)\n",
    "\n",
    "- Outliers are removed\n",
    "- Scaled using StandardtScaler\n",
    "- No Log Transformations on Data"
   ]
  },
  {
   "cell_type": "code",
   "execution_count": 39,
   "metadata": {},
   "outputs": [
    {
     "name": "stdout",
     "output_type": "stream",
     "text": [
      "Prediction Score (ROC AUC): 0.5129381026070544\n"
     ]
    }
   ],
   "source": [
    "score = get_prediction_performance('data/tmp/application_train_preprocessed_standard_scaler_outliers_removed_no_log.csv')\n",
    "print(\"Prediction Score (ROC AUC): {0}\".format(score))"
   ]
  },
  {
   "cell_type": "markdown",
   "metadata": {},
   "source": [
    "# MinMax Scaler with Outliers Replaced (Tukey's Method, All Numeric Fields)\n",
    "\n",
    "- Outliers are removed\n",
    "- Scaled using MinMaxScaler\n",
    "- No Log Transformations on Data"
   ]
  },
  {
   "cell_type": "code",
   "execution_count": 60,
   "metadata": {},
   "outputs": [
    {
     "name": "stdout",
     "output_type": "stream",
     "text": [
      "Prediction Score (ROC AUC): 0.5121386996249535\n"
     ]
    }
   ],
   "source": [
    "score = get_prediction_performance('data/tmp/application_train_preprocessed_minmax_scaler_outliers_removed_no_log.csv')\n",
    "print(\"Prediction Score (ROC AUC): {0}\".format(score))"
   ]
  },
  {
   "cell_type": "markdown",
   "metadata": {},
   "source": [
    "# Robust Scaler, Imputed NaNs (Mean), Outliers Replaced\n",
    "\n",
    "- NaNs in numeric fields are replaced through Imputer.fit_transform instead of np.nan_to_num()\n",
    "- Outliers are removed\n",
    "- Scaled using RobustScaler\n",
    "- No Log Transformations on Data"
   ]
  },
  {
   "cell_type": "code",
   "execution_count": 86,
   "metadata": {},
   "outputs": [
    {
     "name": "stdout",
     "output_type": "stream",
     "text": [
      "Prediction Score (ROC AUC): 0.5102544843423358\n"
     ]
    }
   ],
   "source": [
    "score = get_prediction_performance('data/tmp/application_train_preprocessed_imputation_mean_robust_scaler_outliers_replaced_log_transform_non_monetary_.csv')\n",
    "print(\"Prediction Score (ROC AUC): {0}\".format(score))"
   ]
  },
  {
   "cell_type": "markdown",
   "metadata": {},
   "source": [
    "# Robust Scaler, Imputed NaNs (Most Frequent), Outliers Replaced\n",
    "\n",
    "- NaNs in numeric fields are replaced through Imputer.fit_transform instead of np.nan_to_num()\n",
    "- Imputer(strategy=\"most_frequent\")\n",
    "- Outliers are removed\n",
    "- Scaled using RobustScaler\n",
    "- No Log Transformations on Data"
   ]
  },
  {
   "cell_type": "code",
   "execution_count": 58,
   "metadata": {},
   "outputs": [
    {
     "name": "stdout",
     "output_type": "stream",
     "text": [
      "Prediction Score (ROC AUC): 0.5119808441405944\n"
     ]
    }
   ],
   "source": [
    "score = get_prediction_performance(' data/tmp/application_train_preprocessed_imputation_robust_scaler_outliers_replaced_no_log.csv')\n",
    "print(\"Prediction Score (ROC AUC): {0}\".format(score))"
   ]
  },
  {
   "cell_type": "markdown",
   "metadata": {},
   "source": [
    "# Standard Scaler, Imputed NaNs, Outliers Replaced\n",
    "\n",
    "- NaNs in numeric fields are replaced through Imputer.fit_transform instead of np.nan_to_num()\n",
    "- Outliers are removed\n",
    "- Scaled using StandardScaler\n",
    "- No Log Transformations on Data"
   ]
  },
  {
   "cell_type": "code",
   "execution_count": 62,
   "metadata": {
    "scrolled": true
   },
   "outputs": [
    {
     "name": "stdout",
     "output_type": "stream",
     "text": [
      "Prediction Score (ROC AUC): 0.5105133703379091\n"
     ]
    }
   ],
   "source": [
    "score = get_prediction_performance('data/tmp/application_train_preprocessed_imputation_standard_scaler_outliers_replaced_no_log.csv')\n",
    "print(\"Prediction Score (ROC AUC): {0}\".format(score))"
   ]
  },
  {
   "cell_type": "markdown",
   "metadata": {},
   "source": [
    "# MinMax Scaler, Imputed NaNs, Outliers Replaced\n",
    "\n",
    "- NaNs in numeric fields are replaced through Imputer.fit_transform instead of np.nan_to_num()\n",
    "- Outliers are removed\n",
    "- Scaled using MinMaxScaler\n",
    "- No Log Transformations on Data"
   ]
  },
  {
   "cell_type": "code",
   "execution_count": 61,
   "metadata": {},
   "outputs": [
    {
     "name": "stdout",
     "output_type": "stream",
     "text": [
      "Prediction Score (ROC AUC): 0.5097228084634221\n"
     ]
    }
   ],
   "source": [
    "score = get_prediction_performance('data/tmp/application_train_preprocessed_imputation_minmax_scaler_outliers_replaced_no_log.csv')\n",
    "print(\"Prediction Score (ROC AUC): {0}\".format(score))"
   ]
  },
  {
   "cell_type": "markdown",
   "metadata": {},
   "source": [
    "# Log Transformations (Non-Monetary) - Minimal Preprocessing\n",
    "\n",
    "- NaNs in numeric fields are replaced with np.nan_to_num()\n",
    "- Outliers are included\n",
    "- No Scaling\n",
    "- Log Transformations on Non-Monetary Datapoints"
   ]
  },
  {
   "cell_type": "code",
   "execution_count": 70,
   "metadata": {},
   "outputs": [
    {
     "name": "stdout",
     "output_type": "stream",
     "text": [
      "Prediction Score (ROC AUC): 0.5115628182079698\n"
     ]
    }
   ],
   "source": [
    "score = get_prediction_performance('data/tmp/application_train_preprocessed_no_scaling_with_outliers_log_transform_non_monetary_.csv')\n",
    "print(\"Prediction Score (ROC AUC): {0}\".format(score))"
   ]
  },
  {
   "cell_type": "markdown",
   "metadata": {},
   "source": [
    "# Log Transformations (Non-Monetary) - Imputed NaNs\n",
    "\n",
    "- NaNs in numeric fields are replaced through Imputer.fit_transform instead of np.nan_to_num()\n",
    "- Outliers are included\n",
    "- No Scaling\n",
    "- Log Transformations on Non-Monetary Datapoints"
   ]
  },
  {
   "cell_type": "code",
   "execution_count": 68,
   "metadata": {},
   "outputs": [
    {
     "name": "stdout",
     "output_type": "stream",
     "text": [
      "Prediction Score (ROC AUC): 0.5112294250240239\n"
     ]
    }
   ],
   "source": [
    "score = get_prediction_performance('data/tmp/application_train_preprocessed_imputation_most_frequentno_scaling_outliers_replaced_log_transform_non_monetary_.csv')\n",
    "print(\"Prediction Score (ROC AUC): {0}\".format(score))"
   ]
  },
  {
   "cell_type": "markdown",
   "metadata": {},
   "source": [
    "# Log Transformations (Non-Monetary) - Imputed NaNs, Outliers Replaced\n",
    "\n",
    "- NaNs in numeric fields are replaced through Imputer.fit_transform instead of np.nan_to_num()\n",
    "- Outliers are replaced\n",
    "- No Scaling\n",
    "- Log Transformations on Non-Monetary Datapoints"
   ]
  },
  {
   "cell_type": "code",
   "execution_count": 74,
   "metadata": {},
   "outputs": [
    {
     "name": "stdout",
     "output_type": "stream",
     "text": [
      "Prediction Score (ROC AUC): 0.5105184331180624\n"
     ]
    }
   ],
   "source": [
    "score = get_prediction_performance('data/tmp/application_train_preprocessed_imputation_most_frequentno_scaling_outliers_replaced_log_transform_non_monetary_.csv')\n",
    "print(\"Prediction Score (ROC AUC): {0}\".format(score))"
   ]
  },
  {
   "cell_type": "markdown",
   "metadata": {},
   "source": [
    "# Robust Scaler, Log (Non-Monetary), Imputed NaNs (Most Frequent), Outliers Removed\n",
    "\n",
    "- NaNs in numeric fields are replaced through Imputer.fit_transform instead of np.nan_to_num()\n",
    "- Outliers are removed\n",
    "- Scaled using RobustScaler\n",
    "- Log Transformations on non-monetary data"
   ]
  },
  {
   "cell_type": "code",
   "execution_count": 67,
   "metadata": {},
   "outputs": [
    {
     "name": "stdout",
     "output_type": "stream",
     "text": [
      "Prediction Score (ROC AUC): 0.5118318297638493\n"
     ]
    }
   ],
   "source": [
    "score = get_prediction_performance('data/tmp/application_train_preprocessed_imputation_most_frequentrobust_scaler_outliers_replaced_log_transform_non_monetary_.csv')\n",
    "print(\"Prediction Score (ROC AUC): {0}\".format(score))"
   ]
  },
  {
   "cell_type": "markdown",
   "metadata": {},
   "source": [
    "# Standard Scaler, Log (Non-Monetary), Imputed NaNs (Most Frequent), Outliers Removed\n",
    "\n",
    "- NaNs in numeric fields are replaced through Imputer.fit_transform instead of np.nan_to_num()\n",
    "- Outliers are removed\n",
    "- Scaled using StandardScaler\n",
    "- Log Transformations on non-monetary data"
   ]
  },
  {
   "cell_type": "code",
   "execution_count": 71,
   "metadata": {},
   "outputs": [
    {
     "name": "stdout",
     "output_type": "stream",
     "text": [
      "Prediction Score (ROC AUC): 0.5119151780598359\n"
     ]
    }
   ],
   "source": [
    "score = get_prediction_performance('data/tmp/application_train_preprocessed_imputation_most_frequentstandard_scaler_outliers_replaced_log_transform_non_monetary_.csv')\n",
    "print(\"Prediction Score (ROC AUC): {0}\".format(score))"
   ]
  },
  {
   "cell_type": "markdown",
   "metadata": {},
   "source": [
    "# MinMax Scaler, Log (Non-Monetary), Imputed NaNs (Most Frequent), Outliers Removed\n",
    "\n",
    "- NaNs in numeric fields are replaced through Imputer.fit_transform instead of np.nan_to_num()\n",
    "- Outliers are removed\n",
    "- Scaled using MinMaxScaler\n",
    "- Log Transformations on non-monetary data"
   ]
  },
  {
   "cell_type": "code",
   "execution_count": 84,
   "metadata": {},
   "outputs": [
    {
     "name": "stdout",
     "output_type": "stream",
     "text": [
      "Prediction Score (ROC AUC): 0.5103075309880196\n"
     ]
    }
   ],
   "source": [
    "score = get_prediction_performance('data/tmp/application_train_preprocessed_imputation_most_frequentminmax_scaler_outliers_replaced_log_transform_non_monetary_.csv')\n",
    "print(\"Prediction Score (ROC AUC): {0}\".format(score))"
   ]
  },
  {
   "cell_type": "markdown",
   "metadata": {},
   "source": [
    "# Standard Scaler, Log (Non-Monetary), Imputed NaNs (Mean), Outliers Removed\n",
    "\n",
    "- NaNs in numeric fields are replaced through Imputer.fit_transform instead of np.nan_to_num()\n",
    "- Outliers are removed\n",
    "- Scaled using StandardScaler\n",
    "- Log Transformations on non-monetary data"
   ]
  },
  {
   "cell_type": "code",
   "execution_count": 75,
   "metadata": {},
   "outputs": [
    {
     "name": "stdout",
     "output_type": "stream",
     "text": [
      "Prediction Score (ROC AUC): 0.5114314860464527\n"
     ]
    }
   ],
   "source": [
    "score = get_prediction_performance('data/tmp/application_train_preprocessed_imputation_standard_scaler_outliers_replaced_log_transform_non_monetary_.csv')\n",
    "print(\"Prediction Score (ROC AUC): {0}\".format(score))"
   ]
  },
  {
   "cell_type": "markdown",
   "metadata": {},
   "source": [
    "# Robust Scaler, Log (Monetary), Imputed NaNs (Most Frequent), Outliers Removed\n",
    "\n",
    "- NaNs in numeric fields are replaced through Imputer.fit_transform instead of np.nan_to_num()\n",
    "- Outliers are removed\n",
    "- Scaled using RobustScaler\n",
    "- Log Transformations on monetary data"
   ]
  },
  {
   "cell_type": "code",
   "execution_count": 80,
   "metadata": {},
   "outputs": [
    {
     "name": "stdout",
     "output_type": "stream",
     "text": [
      "Prediction Score (ROC AUC): 0.5105840991988209\n"
     ]
    }
   ],
   "source": [
    "score = get_prediction_performance('data/tmp/application_train_preprocessed_imputation_most_frequentrobust_scaler_outliers_replaced_log_transform_with_monetary_.csv')\n",
    "print(\"Prediction Score (ROC AUC): {0}\".format(score))"
   ]
  },
  {
   "cell_type": "markdown",
   "metadata": {},
   "source": [
    "# Standard Scaler, Log (Monetary), Imputed NaNs (Most Frequent), Outliers Removed\n",
    "\n",
    "- NaNs in numeric fields are replaced through Imputer.fit_transform instead of np.nan_to_num()\n",
    "- Outliers are removed\n",
    "- Scaled using StandardScaler\n",
    "- Log Transformations on monetary data"
   ]
  },
  {
   "cell_type": "code",
   "execution_count": 76,
   "metadata": {},
   "outputs": [
    {
     "name": "stdout",
     "output_type": "stream",
     "text": [
      "Prediction Score (ROC AUC): 0.511559039880509\n"
     ]
    }
   ],
   "source": [
    "score = get_prediction_performance('data/tmp/application_train_preprocessed_imputation_standard_scaler_outliers_replaced_log_transform_with_monetary_.csv')\n",
    "print(\"Prediction Score (ROC AUC): {0}\".format(score))"
   ]
  },
  {
   "cell_type": "markdown",
   "metadata": {},
   "source": [
    "# MinMax Scaler, Log (Monetary), Imputed NaNs (Most Frequent), Outliers Removed\n",
    "\n",
    "- NaNs in numeric fields are replaced through Imputer.fit_transform instead of np.nan_to_num()\n",
    "- Outliers are removed\n",
    "- Scaled using StandardScaler\n",
    "- Log Transformations on monetary data"
   ]
  },
  {
   "cell_type": "code",
   "execution_count": 82,
   "metadata": {},
   "outputs": [
    {
     "name": "stdout",
     "output_type": "stream",
     "text": [
      "Prediction Score (ROC AUC): 0.5118217042035431\n"
     ]
    }
   ],
   "source": [
    "score = get_prediction_performance('data/tmp/application_train_preprocessed_imputation_most_frequentminmax_scaler_outliers_replaced_log_transform_with_monetary_.csv')\n",
    "print(\"Prediction Score (ROC AUC): {0}\".format(score))"
   ]
  },
  {
   "cell_type": "code",
   "execution_count": null,
   "metadata": {},
   "outputs": [],
   "source": []
  }
 ],
 "metadata": {
  "kernelspec": {
   "display_name": "Python 3",
   "language": "python",
   "name": "python3"
  },
  "language_info": {
   "codemirror_mode": {
    "name": "ipython",
    "version": 3
   },
   "file_extension": ".py",
   "mimetype": "text/x-python",
   "name": "python",
   "nbconvert_exporter": "python",
   "pygments_lexer": "ipython3",
   "version": "3.6.5"
  }
 },
 "nbformat": 4,
 "nbformat_minor": 2
}
